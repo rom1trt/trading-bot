{
 "cells": [
  {
   "cell_type": "markdown",
   "metadata": {},
   "source": [
    "# Backtests the SMA Strategy Class"
   ]
  },
  {
   "cell_type": "code",
   "execution_count": 29,
   "metadata": {},
   "outputs": [],
   "source": [
    "import pandas as pd\n",
    "import numpy as np\n",
    "import matplotlib.pyplot as plt\n",
    "from itertools import product\n",
    "plt.style.use(\"seaborn\")"
   ]
  },
  {
   "cell_type": "markdown",
   "metadata": {},
   "source": [
    "## Building the SMA Backtester Class "
   ]
  },
  {
   "cell_type": "code",
   "execution_count": 83,
   "metadata": {},
   "outputs": [],
   "source": [
    "class SMA():\n",
    "    \n",
    "    def __init__(self, ticker, start, end, SMA_short, SMA_long):\n",
    "        self.ticker = ticker\n",
    "        self.SMA_short = SMA_short\n",
    "        self.SMA_long = SMA_long\n",
    "        self.start = start\n",
    "        self.end = end\n",
    "        self.results = None"
   ]
  },
  {
   "cell_type": "code",
   "execution_count": 84,
   "metadata": {},
   "outputs": [],
   "source": [
    "tester = SMA(\"AUDEUR=X\", 50, 200, \"2004-01-01\", \"2020-06-30\")"
   ]
  },
  {
   "cell_type": "code",
   "execution_count": 85,
   "metadata": {},
   "outputs": [
    {
     "data": {
      "text/plain": [
       "'AUDEUR=X'"
      ]
     },
     "execution_count": 85,
     "metadata": {},
     "output_type": "execute_result"
    }
   ],
   "source": [
    "tester.ticker"
   ]
  },
  {
   "cell_type": "code",
   "execution_count": 86,
   "metadata": {},
   "outputs": [
    {
     "data": {
      "text/plain": [
       "'2020-06-30'"
      ]
     },
     "execution_count": 86,
     "metadata": {},
     "output_type": "execute_result"
    }
   ],
   "source": [
    "tester.SMA_long"
   ]
  },
  {
   "cell_type": "code",
   "execution_count": 87,
   "metadata": {},
   "outputs": [],
   "source": [
    "tester.results"
   ]
  },
  {
   "cell_type": "code",
   "execution_count": null,
   "metadata": {},
   "outputs": [],
   "source": []
  },
  {
   "cell_type": "markdown",
   "metadata": {},
   "source": [
    "## Method get_data()"
   ]
  },
  {
   "cell_type": "code",
   "execution_count": 88,
   "metadata": {},
   "outputs": [
    {
     "data": {
      "text/html": [
       "<div>\n",
       "<style scoped>\n",
       "    .dataframe tbody tr th:only-of-type {\n",
       "        vertical-align: middle;\n",
       "    }\n",
       "\n",
       "    .dataframe tbody tr th {\n",
       "        vertical-align: top;\n",
       "    }\n",
       "\n",
       "    .dataframe thead th {\n",
       "        text-align: right;\n",
       "    }\n",
       "</style>\n",
       "<table border=\"1\" class=\"dataframe\">\n",
       "  <thead>\n",
       "    <tr style=\"text-align: right;\">\n",
       "      <th></th>\n",
       "      <th>AUDEUR=X</th>\n",
       "      <th>EURUSD=X</th>\n",
       "      <th>USDGBP=X</th>\n",
       "    </tr>\n",
       "    <tr>\n",
       "      <th>Date</th>\n",
       "      <th></th>\n",
       "      <th></th>\n",
       "      <th></th>\n",
       "    </tr>\n",
       "  </thead>\n",
       "  <tbody>\n",
       "    <tr>\n",
       "      <th>2004-01-01</th>\n",
       "      <td>0.59780</td>\n",
       "      <td>1.258194</td>\n",
       "      <td>0.56016</td>\n",
       "    </tr>\n",
       "    <tr>\n",
       "      <th>2004-01-02</th>\n",
       "      <td>0.60314</td>\n",
       "      <td>1.258194</td>\n",
       "      <td>0.55751</td>\n",
       "    </tr>\n",
       "    <tr>\n",
       "      <th>2004-01-05</th>\n",
       "      <td>0.60467</td>\n",
       "      <td>1.268698</td>\n",
       "      <td>0.55334</td>\n",
       "    </tr>\n",
       "    <tr>\n",
       "      <th>2004-01-06</th>\n",
       "      <td>0.60350</td>\n",
       "      <td>1.272103</td>\n",
       "      <td>0.54906</td>\n",
       "    </tr>\n",
       "    <tr>\n",
       "      <th>2004-01-07</th>\n",
       "      <td>0.60728</td>\n",
       "      <td>1.264095</td>\n",
       "      <td>0.55012</td>\n",
       "    </tr>\n",
       "    <tr>\n",
       "      <th>...</th>\n",
       "      <td>...</td>\n",
       "      <td>...</td>\n",
       "      <td>...</td>\n",
       "    </tr>\n",
       "    <tr>\n",
       "      <th>2020-06-24</th>\n",
       "      <td>0.61349</td>\n",
       "      <td>1.131235</td>\n",
       "      <td>0.79841</td>\n",
       "    </tr>\n",
       "    <tr>\n",
       "      <th>2020-06-25</th>\n",
       "      <td>0.60938</td>\n",
       "      <td>1.125087</td>\n",
       "      <td>0.80561</td>\n",
       "    </tr>\n",
       "    <tr>\n",
       "      <th>2020-06-26</th>\n",
       "      <td>0.61373</td>\n",
       "      <td>1.122208</td>\n",
       "      <td>0.80480</td>\n",
       "    </tr>\n",
       "    <tr>\n",
       "      <th>2020-06-29</th>\n",
       "      <td>0.61128</td>\n",
       "      <td>1.122586</td>\n",
       "      <td>0.81023</td>\n",
       "    </tr>\n",
       "    <tr>\n",
       "      <th>2020-06-30</th>\n",
       "      <td>0.61097</td>\n",
       "      <td>1.124720</td>\n",
       "      <td>0.81231</td>\n",
       "    </tr>\n",
       "  </tbody>\n",
       "</table>\n",
       "<p>4295 rows × 3 columns</p>\n",
       "</div>"
      ],
      "text/plain": [
       "            AUDEUR=X  EURUSD=X  USDGBP=X\n",
       "Date                                    \n",
       "2004-01-01   0.59780  1.258194   0.56016\n",
       "2004-01-02   0.60314  1.258194   0.55751\n",
       "2004-01-05   0.60467  1.268698   0.55334\n",
       "2004-01-06   0.60350  1.272103   0.54906\n",
       "2004-01-07   0.60728  1.264095   0.55012\n",
       "...              ...       ...       ...\n",
       "2020-06-24   0.61349  1.131235   0.79841\n",
       "2020-06-25   0.60938  1.125087   0.80561\n",
       "2020-06-26   0.61373  1.122208   0.80480\n",
       "2020-06-29   0.61128  1.122586   0.81023\n",
       "2020-06-30   0.61097  1.124720   0.81231\n",
       "\n",
       "[4295 rows x 3 columns]"
      ]
     },
     "execution_count": 88,
     "metadata": {},
     "output_type": "execute_result"
    }
   ],
   "source": [
    "data = pd.read_csv(\"../csv_files_example/forex_pairs.csv\", parse_dates = [\"Date\"], index_col = \"Date\") # importing data\n",
    "data"
   ]
  },
  {
   "cell_type": "code",
   "execution_count": 89,
   "metadata": {},
   "outputs": [
    {
     "data": {
      "text/html": [
       "<div>\n",
       "<style scoped>\n",
       "    .dataframe tbody tr th:only-of-type {\n",
       "        vertical-align: middle;\n",
       "    }\n",
       "\n",
       "    .dataframe tbody tr th {\n",
       "        vertical-align: top;\n",
       "    }\n",
       "\n",
       "    .dataframe thead th {\n",
       "        text-align: right;\n",
       "    }\n",
       "</style>\n",
       "<table border=\"1\" class=\"dataframe\">\n",
       "  <thead>\n",
       "    <tr style=\"text-align: right;\">\n",
       "      <th></th>\n",
       "      <th>AUDEUR=X</th>\n",
       "    </tr>\n",
       "    <tr>\n",
       "      <th>Date</th>\n",
       "      <th></th>\n",
       "    </tr>\n",
       "  </thead>\n",
       "  <tbody>\n",
       "    <tr>\n",
       "      <th>2004-01-01</th>\n",
       "      <td>0.59780</td>\n",
       "    </tr>\n",
       "    <tr>\n",
       "      <th>2004-01-02</th>\n",
       "      <td>0.60314</td>\n",
       "    </tr>\n",
       "    <tr>\n",
       "      <th>2004-01-05</th>\n",
       "      <td>0.60467</td>\n",
       "    </tr>\n",
       "    <tr>\n",
       "      <th>2004-01-06</th>\n",
       "      <td>0.60350</td>\n",
       "    </tr>\n",
       "    <tr>\n",
       "      <th>2004-01-07</th>\n",
       "      <td>0.60728</td>\n",
       "    </tr>\n",
       "    <tr>\n",
       "      <th>...</th>\n",
       "      <td>...</td>\n",
       "    </tr>\n",
       "    <tr>\n",
       "      <th>2020-06-24</th>\n",
       "      <td>0.61349</td>\n",
       "    </tr>\n",
       "    <tr>\n",
       "      <th>2020-06-25</th>\n",
       "      <td>0.60938</td>\n",
       "    </tr>\n",
       "    <tr>\n",
       "      <th>2020-06-26</th>\n",
       "      <td>0.61373</td>\n",
       "    </tr>\n",
       "    <tr>\n",
       "      <th>2020-06-29</th>\n",
       "      <td>0.61128</td>\n",
       "    </tr>\n",
       "    <tr>\n",
       "      <th>2020-06-30</th>\n",
       "      <td>0.61097</td>\n",
       "    </tr>\n",
       "  </tbody>\n",
       "</table>\n",
       "<p>4274 rows × 1 columns</p>\n",
       "</div>"
      ],
      "text/plain": [
       "            AUDEUR=X\n",
       "Date                \n",
       "2004-01-01   0.59780\n",
       "2004-01-02   0.60314\n",
       "2004-01-05   0.60467\n",
       "2004-01-06   0.60350\n",
       "2004-01-07   0.60728\n",
       "...              ...\n",
       "2020-06-24   0.61349\n",
       "2020-06-25   0.60938\n",
       "2020-06-26   0.61373\n",
       "2020-06-29   0.61128\n",
       "2020-06-30   0.61097\n",
       "\n",
       "[4274 rows x 1 columns]"
      ]
     },
     "execution_count": 89,
     "metadata": {},
     "output_type": "execute_result"
    }
   ],
   "source": [
    "data = data[\"AUDEUR=X\"].to_frame().dropna() # selecting an instrument\n",
    "data"
   ]
  },
  {
   "cell_type": "code",
   "execution_count": 90,
   "metadata": {},
   "outputs": [
    {
     "data": {
      "text/html": [
       "<div>\n",
       "<style scoped>\n",
       "    .dataframe tbody tr th:only-of-type {\n",
       "        vertical-align: middle;\n",
       "    }\n",
       "\n",
       "    .dataframe tbody tr th {\n",
       "        vertical-align: top;\n",
       "    }\n",
       "\n",
       "    .dataframe thead th {\n",
       "        text-align: right;\n",
       "    }\n",
       "</style>\n",
       "<table border=\"1\" class=\"dataframe\">\n",
       "  <thead>\n",
       "    <tr style=\"text-align: right;\">\n",
       "      <th></th>\n",
       "      <th>AUDEUR=X</th>\n",
       "    </tr>\n",
       "    <tr>\n",
       "      <th>Date</th>\n",
       "      <th></th>\n",
       "    </tr>\n",
       "  </thead>\n",
       "  <tbody>\n",
       "    <tr>\n",
       "      <th>2010-01-01</th>\n",
       "      <td>0.62402</td>\n",
       "    </tr>\n",
       "    <tr>\n",
       "      <th>2010-01-04</th>\n",
       "      <td>0.63230</td>\n",
       "    </tr>\n",
       "    <tr>\n",
       "      <th>2010-01-05</th>\n",
       "      <td>0.63430</td>\n",
       "    </tr>\n",
       "    <tr>\n",
       "      <th>2010-01-06</th>\n",
       "      <td>0.63860</td>\n",
       "    </tr>\n",
       "    <tr>\n",
       "      <th>2010-01-07</th>\n",
       "      <td>0.64060</td>\n",
       "    </tr>\n",
       "    <tr>\n",
       "      <th>...</th>\n",
       "      <td>...</td>\n",
       "    </tr>\n",
       "    <tr>\n",
       "      <th>2012-12-25</th>\n",
       "      <td>0.78620</td>\n",
       "    </tr>\n",
       "    <tr>\n",
       "      <th>2012-12-26</th>\n",
       "      <td>0.78680</td>\n",
       "    </tr>\n",
       "    <tr>\n",
       "      <th>2012-12-27</th>\n",
       "      <td>0.78340</td>\n",
       "    </tr>\n",
       "    <tr>\n",
       "      <th>2012-12-28</th>\n",
       "      <td>0.78250</td>\n",
       "    </tr>\n",
       "    <tr>\n",
       "      <th>2012-12-31</th>\n",
       "      <td>0.78540</td>\n",
       "    </tr>\n",
       "  </tbody>\n",
       "</table>\n",
       "<p>781 rows × 1 columns</p>\n",
       "</div>"
      ],
      "text/plain": [
       "            AUDEUR=X\n",
       "Date                \n",
       "2010-01-01   0.62402\n",
       "2010-01-04   0.63230\n",
       "2010-01-05   0.63430\n",
       "2010-01-06   0.63860\n",
       "2010-01-07   0.64060\n",
       "...              ...\n",
       "2012-12-25   0.78620\n",
       "2012-12-26   0.78680\n",
       "2012-12-27   0.78340\n",
       "2012-12-28   0.78250\n",
       "2012-12-31   0.78540\n",
       "\n",
       "[781 rows x 1 columns]"
      ]
     },
     "execution_count": 90,
     "metadata": {},
     "output_type": "execute_result"
    }
   ],
   "source": [
    "data = data.loc[\"2010-01-01\":\"2012-12-31\"].copy() # setting time period \n",
    "data"
   ]
  },
  {
   "cell_type": "code",
   "execution_count": 91,
   "metadata": {},
   "outputs": [],
   "source": [
    "data.rename(columns={\"AUDEUR=X\": \"price\"}, inplace=True) # clean up"
   ]
  },
  {
   "cell_type": "code",
   "execution_count": 92,
   "metadata": {},
   "outputs": [
    {
     "data": {
      "text/html": [
       "<div>\n",
       "<style scoped>\n",
       "    .dataframe tbody tr th:only-of-type {\n",
       "        vertical-align: middle;\n",
       "    }\n",
       "\n",
       "    .dataframe tbody tr th {\n",
       "        vertical-align: top;\n",
       "    }\n",
       "\n",
       "    .dataframe thead th {\n",
       "        text-align: right;\n",
       "    }\n",
       "</style>\n",
       "<table border=\"1\" class=\"dataframe\">\n",
       "  <thead>\n",
       "    <tr style=\"text-align: right;\">\n",
       "      <th></th>\n",
       "      <th>price</th>\n",
       "    </tr>\n",
       "    <tr>\n",
       "      <th>Date</th>\n",
       "      <th></th>\n",
       "    </tr>\n",
       "  </thead>\n",
       "  <tbody>\n",
       "    <tr>\n",
       "      <th>2010-01-01</th>\n",
       "      <td>0.62402</td>\n",
       "    </tr>\n",
       "    <tr>\n",
       "      <th>2010-01-04</th>\n",
       "      <td>0.63230</td>\n",
       "    </tr>\n",
       "    <tr>\n",
       "      <th>2010-01-05</th>\n",
       "      <td>0.63430</td>\n",
       "    </tr>\n",
       "    <tr>\n",
       "      <th>2010-01-06</th>\n",
       "      <td>0.63860</td>\n",
       "    </tr>\n",
       "    <tr>\n",
       "      <th>2010-01-07</th>\n",
       "      <td>0.64060</td>\n",
       "    </tr>\n",
       "    <tr>\n",
       "      <th>...</th>\n",
       "      <td>...</td>\n",
       "    </tr>\n",
       "    <tr>\n",
       "      <th>2012-12-25</th>\n",
       "      <td>0.78620</td>\n",
       "    </tr>\n",
       "    <tr>\n",
       "      <th>2012-12-26</th>\n",
       "      <td>0.78680</td>\n",
       "    </tr>\n",
       "    <tr>\n",
       "      <th>2012-12-27</th>\n",
       "      <td>0.78340</td>\n",
       "    </tr>\n",
       "    <tr>\n",
       "      <th>2012-12-28</th>\n",
       "      <td>0.78250</td>\n",
       "    </tr>\n",
       "    <tr>\n",
       "      <th>2012-12-31</th>\n",
       "      <td>0.78540</td>\n",
       "    </tr>\n",
       "  </tbody>\n",
       "</table>\n",
       "<p>781 rows × 1 columns</p>\n",
       "</div>"
      ],
      "text/plain": [
       "              price\n",
       "Date               \n",
       "2010-01-01  0.62402\n",
       "2010-01-04  0.63230\n",
       "2010-01-05  0.63430\n",
       "2010-01-06  0.63860\n",
       "2010-01-07  0.64060\n",
       "...             ...\n",
       "2012-12-25  0.78620\n",
       "2012-12-26  0.78680\n",
       "2012-12-27  0.78340\n",
       "2012-12-28  0.78250\n",
       "2012-12-31  0.78540\n",
       "\n",
       "[781 rows x 1 columns]"
      ]
     },
     "execution_count": 92,
     "metadata": {},
     "output_type": "execute_result"
    }
   ],
   "source": [
    "data"
   ]
  },
  {
   "cell_type": "code",
   "execution_count": 93,
   "metadata": {},
   "outputs": [],
   "source": [
    "data[\"returns\"] = np.log(data / data.shift(1)) # calculate log returns"
   ]
  },
  {
   "cell_type": "code",
   "execution_count": 94,
   "metadata": {},
   "outputs": [],
   "source": [
    "data[\"SMA_short\"] = data[\"price\"].rolling(50).mean() # add short sma\n",
    "data[\"SMA_long\"] = data[\"price\"].rolling(200).mean() # add long sma"
   ]
  },
  {
   "cell_type": "code",
   "execution_count": 95,
   "metadata": {},
   "outputs": [
    {
     "data": {
      "text/html": [
       "<div>\n",
       "<style scoped>\n",
       "    .dataframe tbody tr th:only-of-type {\n",
       "        vertical-align: middle;\n",
       "    }\n",
       "\n",
       "    .dataframe tbody tr th {\n",
       "        vertical-align: top;\n",
       "    }\n",
       "\n",
       "    .dataframe thead th {\n",
       "        text-align: right;\n",
       "    }\n",
       "</style>\n",
       "<table border=\"1\" class=\"dataframe\">\n",
       "  <thead>\n",
       "    <tr style=\"text-align: right;\">\n",
       "      <th></th>\n",
       "      <th>price</th>\n",
       "      <th>returns</th>\n",
       "      <th>SMA_short</th>\n",
       "      <th>SMA_long</th>\n",
       "    </tr>\n",
       "    <tr>\n",
       "      <th>Date</th>\n",
       "      <th></th>\n",
       "      <th></th>\n",
       "      <th></th>\n",
       "      <th></th>\n",
       "    </tr>\n",
       "  </thead>\n",
       "  <tbody>\n",
       "    <tr>\n",
       "      <th>2010-01-01</th>\n",
       "      <td>0.62402</td>\n",
       "      <td>NaN</td>\n",
       "      <td>NaN</td>\n",
       "      <td>NaN</td>\n",
       "    </tr>\n",
       "    <tr>\n",
       "      <th>2010-01-04</th>\n",
       "      <td>0.63230</td>\n",
       "      <td>0.013182</td>\n",
       "      <td>NaN</td>\n",
       "      <td>NaN</td>\n",
       "    </tr>\n",
       "    <tr>\n",
       "      <th>2010-01-05</th>\n",
       "      <td>0.63430</td>\n",
       "      <td>0.003158</td>\n",
       "      <td>NaN</td>\n",
       "      <td>NaN</td>\n",
       "    </tr>\n",
       "    <tr>\n",
       "      <th>2010-01-06</th>\n",
       "      <td>0.63860</td>\n",
       "      <td>0.006756</td>\n",
       "      <td>NaN</td>\n",
       "      <td>NaN</td>\n",
       "    </tr>\n",
       "    <tr>\n",
       "      <th>2010-01-07</th>\n",
       "      <td>0.64060</td>\n",
       "      <td>0.003127</td>\n",
       "      <td>NaN</td>\n",
       "      <td>NaN</td>\n",
       "    </tr>\n",
       "    <tr>\n",
       "      <th>...</th>\n",
       "      <td>...</td>\n",
       "      <td>...</td>\n",
       "      <td>...</td>\n",
       "      <td>...</td>\n",
       "    </tr>\n",
       "    <tr>\n",
       "      <th>2012-12-25</th>\n",
       "      <td>0.78620</td>\n",
       "      <td>-0.002921</td>\n",
       "      <td>0.803610</td>\n",
       "      <td>0.805435</td>\n",
       "    </tr>\n",
       "    <tr>\n",
       "      <th>2012-12-26</th>\n",
       "      <td>0.78680</td>\n",
       "      <td>0.000763</td>\n",
       "      <td>0.803618</td>\n",
       "      <td>0.805410</td>\n",
       "    </tr>\n",
       "    <tr>\n",
       "      <th>2012-12-27</th>\n",
       "      <td>0.78340</td>\n",
       "      <td>-0.004331</td>\n",
       "      <td>0.803462</td>\n",
       "      <td>0.805372</td>\n",
       "    </tr>\n",
       "    <tr>\n",
       "      <th>2012-12-28</th>\n",
       "      <td>0.78250</td>\n",
       "      <td>-0.001149</td>\n",
       "      <td>0.803238</td>\n",
       "      <td>0.805347</td>\n",
       "    </tr>\n",
       "    <tr>\n",
       "      <th>2012-12-31</th>\n",
       "      <td>0.78540</td>\n",
       "      <td>0.003699</td>\n",
       "      <td>0.803118</td>\n",
       "      <td>0.805327</td>\n",
       "    </tr>\n",
       "  </tbody>\n",
       "</table>\n",
       "<p>781 rows × 4 columns</p>\n",
       "</div>"
      ],
      "text/plain": [
       "              price   returns  SMA_short  SMA_long\n",
       "Date                                              \n",
       "2010-01-01  0.62402       NaN        NaN       NaN\n",
       "2010-01-04  0.63230  0.013182        NaN       NaN\n",
       "2010-01-05  0.63430  0.003158        NaN       NaN\n",
       "2010-01-06  0.63860  0.006756        NaN       NaN\n",
       "2010-01-07  0.64060  0.003127        NaN       NaN\n",
       "...             ...       ...        ...       ...\n",
       "2012-12-25  0.78620 -0.002921   0.803610  0.805435\n",
       "2012-12-26  0.78680  0.000763   0.803618  0.805410\n",
       "2012-12-27  0.78340 -0.004331   0.803462  0.805372\n",
       "2012-12-28  0.78250 -0.001149   0.803238  0.805347\n",
       "2012-12-31  0.78540  0.003699   0.803118  0.805327\n",
       "\n",
       "[781 rows x 4 columns]"
      ]
     },
     "execution_count": 95,
     "metadata": {},
     "output_type": "execute_result"
    }
   ],
   "source": [
    "data"
   ]
  },
  {
   "cell_type": "code",
   "execution_count": 96,
   "metadata": {},
   "outputs": [],
   "source": [
    "class SMA():\n",
    "    def __init__(self, ticker, start, end, SMA_short, SMA_long):\n",
    "        self.ticker = ticker\n",
    "        self.SMA_short = SMA_short\n",
    "        self.SMA_long = SMA_long\n",
    "        self.start = start\n",
    "        self.end = end\n",
    "        self.results = None\n",
    "        self.get_data()\n",
    "        \n",
    "    def get_data(self):\n",
    "        ''' Imports the data from the specified source\n",
    "        '''\n",
    "        data = pd.read_csv(\"../csv_files_example/forex_pairs.csv\", parse_dates = [\"Date\"], index_col = \"Date\").dropna()\n",
    "        data[self.ticker].to_frame().dropna()\n",
    "        data = data.loc[self.start:self.end].copy()\n",
    "        data.rename(columns = {self.ticker: \"price\"}, inplace = True)\n",
    "        data[\"returns\"] = np.log(data.price.div(data.price.shift(1)))\n",
    "        self.data = data \n",
    "    "
   ]
  },
  {
   "cell_type": "code",
   "execution_count": 130,
   "metadata": {},
   "outputs": [],
   "source": [
    "tester = SMA(\"AUDEUR=X\", \"2010-01-01\", \"2019-12-31\", 50, 200)"
   ]
  },
  {
   "cell_type": "code",
   "execution_count": 131,
   "metadata": {},
   "outputs": [
    {
     "data": {
      "text/html": [
       "<div>\n",
       "<style scoped>\n",
       "    .dataframe tbody tr th:only-of-type {\n",
       "        vertical-align: middle;\n",
       "    }\n",
       "\n",
       "    .dataframe tbody tr th {\n",
       "        vertical-align: top;\n",
       "    }\n",
       "\n",
       "    .dataframe thead th {\n",
       "        text-align: right;\n",
       "    }\n",
       "</style>\n",
       "<table border=\"1\" class=\"dataframe\">\n",
       "  <thead>\n",
       "    <tr style=\"text-align: right;\">\n",
       "      <th></th>\n",
       "      <th>price</th>\n",
       "      <th>EURUSD=X</th>\n",
       "      <th>USDGBP=X</th>\n",
       "      <th>returns</th>\n",
       "    </tr>\n",
       "    <tr>\n",
       "      <th>Date</th>\n",
       "      <th></th>\n",
       "      <th></th>\n",
       "      <th></th>\n",
       "      <th></th>\n",
       "    </tr>\n",
       "  </thead>\n",
       "  <tbody>\n",
       "    <tr>\n",
       "      <th>2010-01-01</th>\n",
       "      <td>0.62402</td>\n",
       "      <td>1.438994</td>\n",
       "      <td>0.61985</td>\n",
       "      <td>NaN</td>\n",
       "    </tr>\n",
       "    <tr>\n",
       "      <th>2010-01-04</th>\n",
       "      <td>0.63230</td>\n",
       "      <td>1.442398</td>\n",
       "      <td>0.62059</td>\n",
       "      <td>0.013182</td>\n",
       "    </tr>\n",
       "    <tr>\n",
       "      <th>2010-01-05</th>\n",
       "      <td>0.63430</td>\n",
       "      <td>1.436596</td>\n",
       "      <td>0.62536</td>\n",
       "      <td>0.003158</td>\n",
       "    </tr>\n",
       "    <tr>\n",
       "      <th>2010-01-06</th>\n",
       "      <td>0.63860</td>\n",
       "      <td>1.440403</td>\n",
       "      <td>0.62407</td>\n",
       "      <td>0.006756</td>\n",
       "    </tr>\n",
       "    <tr>\n",
       "      <th>2010-01-07</th>\n",
       "      <td>0.64060</td>\n",
       "      <td>1.431803</td>\n",
       "      <td>0.62759</td>\n",
       "      <td>0.003127</td>\n",
       "    </tr>\n",
       "    <tr>\n",
       "      <th>...</th>\n",
       "      <td>...</td>\n",
       "      <td>...</td>\n",
       "      <td>...</td>\n",
       "      <td>...</td>\n",
       "    </tr>\n",
       "    <tr>\n",
       "      <th>2019-12-25</th>\n",
       "      <td>0.62410</td>\n",
       "      <td>1.109016</td>\n",
       "      <td>0.77310</td>\n",
       "      <td>-0.000240</td>\n",
       "    </tr>\n",
       "    <tr>\n",
       "      <th>2019-12-26</th>\n",
       "      <td>0.62380</td>\n",
       "      <td>1.109545</td>\n",
       "      <td>0.77080</td>\n",
       "      <td>-0.000481</td>\n",
       "    </tr>\n",
       "    <tr>\n",
       "      <th>2019-12-27</th>\n",
       "      <td>0.62550</td>\n",
       "      <td>1.110112</td>\n",
       "      <td>0.76910</td>\n",
       "      <td>0.002722</td>\n",
       "    </tr>\n",
       "    <tr>\n",
       "      <th>2019-12-30</th>\n",
       "      <td>0.62441</td>\n",
       "      <td>1.118230</td>\n",
       "      <td>0.76383</td>\n",
       "      <td>-0.001744</td>\n",
       "    </tr>\n",
       "    <tr>\n",
       "      <th>2019-12-31</th>\n",
       "      <td>0.62493</td>\n",
       "      <td>1.120230</td>\n",
       "      <td>0.76260</td>\n",
       "      <td>0.000833</td>\n",
       "    </tr>\n",
       "  </tbody>\n",
       "</table>\n",
       "<p>2582 rows × 4 columns</p>\n",
       "</div>"
      ],
      "text/plain": [
       "              price  EURUSD=X  USDGBP=X   returns\n",
       "Date                                             \n",
       "2010-01-01  0.62402  1.438994   0.61985       NaN\n",
       "2010-01-04  0.63230  1.442398   0.62059  0.013182\n",
       "2010-01-05  0.63430  1.436596   0.62536  0.003158\n",
       "2010-01-06  0.63860  1.440403   0.62407  0.006756\n",
       "2010-01-07  0.64060  1.431803   0.62759  0.003127\n",
       "...             ...       ...       ...       ...\n",
       "2019-12-25  0.62410  1.109016   0.77310 -0.000240\n",
       "2019-12-26  0.62380  1.109545   0.77080 -0.000481\n",
       "2019-12-27  0.62550  1.110112   0.76910  0.002722\n",
       "2019-12-30  0.62441  1.118230   0.76383 -0.001744\n",
       "2019-12-31  0.62493  1.120230   0.76260  0.000833\n",
       "\n",
       "[2582 rows x 4 columns]"
      ]
     },
     "execution_count": 131,
     "metadata": {},
     "output_type": "execute_result"
    }
   ],
   "source": [
    "tester.data"
   ]
  },
  {
   "cell_type": "code",
   "execution_count": 99,
   "metadata": {},
   "outputs": [],
   "source": [
    "tester.get_data()"
   ]
  },
  {
   "cell_type": "code",
   "execution_count": null,
   "metadata": {},
   "outputs": [],
   "source": []
  },
  {
   "cell_type": "markdown",
   "metadata": {},
   "source": [
    "## Setting new SMA Paramters"
   ]
  },
  {
   "cell_type": "code",
   "execution_count": 100,
   "metadata": {},
   "outputs": [
    {
     "data": {
      "text/plain": [
       "50"
      ]
     },
     "execution_count": 100,
     "metadata": {},
     "output_type": "execute_result"
    }
   ],
   "source": [
    "tester.SMA_short"
   ]
  },
  {
   "cell_type": "code",
   "execution_count": 101,
   "metadata": {},
   "outputs": [
    {
     "data": {
      "text/plain": [
       "200"
      ]
     },
     "execution_count": 101,
     "metadata": {},
     "output_type": "execute_result"
    }
   ],
   "source": [
    "tester.SMA_long"
   ]
  },
  {
   "cell_type": "code",
   "execution_count": 102,
   "metadata": {},
   "outputs": [
    {
     "data": {
      "text/plain": [
       "price       0\n",
       "EURUSD=X    0\n",
       "USDGBP=X    0\n",
       "returns     1\n",
       "dtype: int64"
      ]
     },
     "execution_count": 102,
     "metadata": {},
     "output_type": "execute_result"
    }
   ],
   "source": [
    "tester.data.isna().sum()"
   ]
  },
  {
   "cell_type": "code",
   "execution_count": 103,
   "metadata": {},
   "outputs": [],
   "source": [
    "tester.SMA_long = 250"
   ]
  },
  {
   "cell_type": "code",
   "execution_count": 104,
   "metadata": {},
   "outputs": [
    {
     "data": {
      "text/plain": [
       "250"
      ]
     },
     "execution_count": 104,
     "metadata": {},
     "output_type": "execute_result"
    }
   ],
   "source": [
    "tester.SMA_long"
   ]
  },
  {
   "cell_type": "code",
   "execution_count": 105,
   "metadata": {},
   "outputs": [
    {
     "data": {
      "text/plain": [
       "price       0\n",
       "EURUSD=X    0\n",
       "USDGBP=X    0\n",
       "returns     1\n",
       "dtype: int64"
      ]
     },
     "execution_count": 105,
     "metadata": {},
     "output_type": "execute_result"
    }
   ],
   "source": [
    "tester.data.isna().sum()"
   ]
  },
  {
   "cell_type": "code",
   "execution_count": 141,
   "metadata": {},
   "outputs": [],
   "source": [
    "class SMA():\n",
    "    def __init__(self, ticker, start, end, SMA_short, SMA_long):\n",
    "        self.ticker = ticker\n",
    "        self.SMA_short = SMA_short\n",
    "        self.SMA_long = SMA_long\n",
    "        self.start = start\n",
    "        self.end = end\n",
    "        self.results = None\n",
    "        self.get_data()\n",
    "\n",
    "    def get_data(self):\n",
    "        ''' Imports the data from the specified source\n",
    "        '''\n",
    "        data = pd.read_csv(\"../csv_files_example/forex_pairs.csv\", parse_dates = [\"Date\"], index_col = \"Date\").dropna()\n",
    "        data[self.ticker].to_frame().dropna()\n",
    "        data = data.loc[self.start:self.end].copy()\n",
    "        data.rename(columns = {self.ticker: \"price\"}, inplace = True)\n",
    "        data[\"returns\"] = np.log(data.price.div(data.price.shift(1)))\n",
    "        self.data = data \n",
    "        return data\n",
    "    \n",
    "    def set_parameters(self, new_SMA_short = None, new_SMA_long = None):\n",
    "        ''' Updates SMA parameters (SMA_short, SMA_long) and the prepared dataset\n",
    "        '''\n",
    "        if new_SMA_short is not None:\n",
    "            self.SMA_short = new_SMA_short\n",
    "            self.data[\"SMA_short\"] = self.data[\"price\"].rolling(self.SMA_short).mean()\n",
    "            \n",
    "        if new_SMA_long is not None:\n",
    "            self.SMA_long = new_SMA_long\n",
    "            self.data[\"SMA_long\"] = self.data[\"price\"].rolling(self.SMA_long).mean()"
   ]
  },
  {
   "cell_type": "code",
   "execution_count": 142,
   "metadata": {},
   "outputs": [],
   "source": [
    "tester = SMA(\"AUDEUR=X\", \"2010-01-01\", \"2019-12-31\", 50, 200,)"
   ]
  },
  {
   "cell_type": "code",
   "execution_count": 143,
   "metadata": {},
   "outputs": [
    {
     "data": {
      "text/plain": [
       "price       0\n",
       "EURUSD=X    0\n",
       "USDGBP=X    0\n",
       "returns     1\n",
       "dtype: int64"
      ]
     },
     "execution_count": 143,
     "metadata": {},
     "output_type": "execute_result"
    }
   ],
   "source": [
    "tester.data.isna().sum()"
   ]
  },
  {
   "cell_type": "code",
   "execution_count": 109,
   "metadata": {},
   "outputs": [],
   "source": [
    "tester.set_parameters(25, 150)"
   ]
  },
  {
   "cell_type": "code",
   "execution_count": 110,
   "metadata": {},
   "outputs": [
    {
     "data": {
      "text/plain": [
       "25"
      ]
     },
     "execution_count": 110,
     "metadata": {},
     "output_type": "execute_result"
    }
   ],
   "source": [
    "tester.SMA_short"
   ]
  },
  {
   "cell_type": "code",
   "execution_count": 111,
   "metadata": {},
   "outputs": [
    {
     "data": {
      "text/plain": [
       "price          0\n",
       "EURUSD=X       0\n",
       "USDGBP=X       0\n",
       "returns        1\n",
       "SMA_short     24\n",
       "SMA_long     149\n",
       "dtype: int64"
      ]
     },
     "execution_count": 111,
     "metadata": {},
     "output_type": "execute_result"
    }
   ],
   "source": [
    "tester.data.isna().sum()"
   ]
  },
  {
   "cell_type": "code",
   "execution_count": null,
   "metadata": {},
   "outputs": [],
   "source": []
  },
  {
   "cell_type": "markdown",
   "metadata": {},
   "source": [
    "## Testing a Strategy & Splitting get_data() and add prepare_data()"
   ]
  },
  {
   "cell_type": "code",
   "execution_count": 150,
   "metadata": {},
   "outputs": [],
   "source": [
    "class SMA():\n",
    "    def __init__(self, ticker, start, end, SMA_short, SMA_long):\n",
    "        self.ticker = ticker\n",
    "        self.SMA_short = SMA_short\n",
    "        self.SMA_long = SMA_long\n",
    "        self.start = start\n",
    "        self.end = end\n",
    "        self.results = None\n",
    "        self.get_data()\n",
    "        self.prepare_data()\n",
    "\n",
    "    def get_data(self):\n",
    "        ''' Imports the data from the specified source\n",
    "        '''\n",
    "        data = pd.read_csv(\"../csv_files_example/forex_pairs.csv\", parse_dates = [\"Date\"], index_col = \"Date\").dropna()\n",
    "        data[self.ticker].to_frame().dropna()\n",
    "        data = data.loc[self.start:self.end].copy()\n",
    "        data.rename(columns = {self.ticker: \"price\"}, inplace = True)\n",
    "        data[\"returns\"] = np.log(data.price.div(data.price.shift(1)))\n",
    "        self.data = data \n",
    "        return data\n",
    "    \n",
    "    def prepare_data(self):\n",
    "        ''' Prepares the data for SMA trading strategy backtesting\n",
    "        '''\n",
    "        data = self.data.copy()\n",
    "        data[\"SMA_short\"] = data[\"price\"].rolling(self.SMA_short).mean()\n",
    "        data[\"SMA_long\"] = data[\"price\"].rolling(self.SMA_long).mean()\n",
    "        self.data = data \n",
    "    \n",
    "    def set_parameters(self, new_SMA_short = None, new_SMA_long = None):\n",
    "        ''' Updates SMA parameters (SMA_short, SMA_long) and the prepared dataset\n",
    "        '''\n",
    "        if new_SMA_short is not None:\n",
    "            self.SMA_short = new_SMA_short\n",
    "            self.data[\"SMA_short\"] = self.data[\"price\"].rolling(self.SMA_short).mean()\n",
    "            \n",
    "        if new_SMA_long is not None:\n",
    "            self.SMA_long = new_SMA_long\n",
    "            self.data[\"SMA_long\"] = self.data[\"price\"].rolling(self.SMA_long).mean()\n",
    "            \n",
    "    def test_strategy(self):\n",
    "        ''' Backtests the SMA-based trading strategy\n",
    "        '''\n",
    "        data = self.data.copy().dropna()\n",
    "        data[\"position\"] = np.where(data[\"SMA_short\"] > data[\"SMA_long\"], 1, -1)\n",
    "        data[\"strategy\"] = data.position.shift(1) * data[\"returns\"]\n",
    "        data.dropna(inplace = True)\n",
    "        \n",
    "        data[\"creturns\"] = data[\"returns\"].cumsum().apply(np.exp)\n",
    "        data[\"cstrategy\"] = data[\"strategy\"].cumsum().apply(np.exp)\n",
    "        self.results = data\n",
    "       \n",
    "        performance = data[\"cstrategy\"].iloc[-1] # absolute performance of the strategy\n",
    "        outperformance = performance - data[\"creturns\"].iloc[-1] # out/underperformance of strategy\n",
    "        \n",
    "        return round(performance, 6), round(outperformance, 6)"
   ]
  },
  {
   "cell_type": "code",
   "execution_count": 152,
   "metadata": {},
   "outputs": [],
   "source": [
    "tester = SMA(\"EURUSD=X\", \"2004-01-01\", \"2020-06-30\", 50, 200,)\n"
   ]
  },
  {
   "cell_type": "code",
   "execution_count": 153,
   "metadata": {},
   "outputs": [
    {
     "data": {
      "text/plain": [
       "(1.278635, 0.362809)"
      ]
     },
     "execution_count": 153,
     "metadata": {},
     "output_type": "execute_result"
    }
   ],
   "source": [
    "tester.test_strategy()"
   ]
  },
  {
   "cell_type": "code",
   "execution_count": 154,
   "metadata": {},
   "outputs": [
    {
     "data": {
      "text/html": [
       "<div>\n",
       "<style scoped>\n",
       "    .dataframe tbody tr th:only-of-type {\n",
       "        vertical-align: middle;\n",
       "    }\n",
       "\n",
       "    .dataframe tbody tr th {\n",
       "        vertical-align: top;\n",
       "    }\n",
       "\n",
       "    .dataframe thead th {\n",
       "        text-align: right;\n",
       "    }\n",
       "</style>\n",
       "<table border=\"1\" class=\"dataframe\">\n",
       "  <thead>\n",
       "    <tr style=\"text-align: right;\">\n",
       "      <th></th>\n",
       "      <th>AUDEUR=X</th>\n",
       "      <th>price</th>\n",
       "      <th>USDGBP=X</th>\n",
       "      <th>returns</th>\n",
       "      <th>SMA_short</th>\n",
       "      <th>SMA_long</th>\n",
       "    </tr>\n",
       "    <tr>\n",
       "      <th>Date</th>\n",
       "      <th></th>\n",
       "      <th></th>\n",
       "      <th></th>\n",
       "      <th></th>\n",
       "      <th></th>\n",
       "      <th></th>\n",
       "    </tr>\n",
       "  </thead>\n",
       "  <tbody>\n",
       "    <tr>\n",
       "      <th>2004-01-01</th>\n",
       "      <td>0.59780</td>\n",
       "      <td>1.258194</td>\n",
       "      <td>0.56016</td>\n",
       "      <td>NaN</td>\n",
       "      <td>NaN</td>\n",
       "      <td>NaN</td>\n",
       "    </tr>\n",
       "    <tr>\n",
       "      <th>2004-01-02</th>\n",
       "      <td>0.60314</td>\n",
       "      <td>1.258194</td>\n",
       "      <td>0.55751</td>\n",
       "      <td>0.000000</td>\n",
       "      <td>NaN</td>\n",
       "      <td>NaN</td>\n",
       "    </tr>\n",
       "    <tr>\n",
       "      <th>2004-01-05</th>\n",
       "      <td>0.60467</td>\n",
       "      <td>1.268698</td>\n",
       "      <td>0.55334</td>\n",
       "      <td>0.008313</td>\n",
       "      <td>NaN</td>\n",
       "      <td>NaN</td>\n",
       "    </tr>\n",
       "    <tr>\n",
       "      <th>2004-01-06</th>\n",
       "      <td>0.60350</td>\n",
       "      <td>1.272103</td>\n",
       "      <td>0.54906</td>\n",
       "      <td>0.002681</td>\n",
       "      <td>NaN</td>\n",
       "      <td>NaN</td>\n",
       "    </tr>\n",
       "    <tr>\n",
       "      <th>2004-01-07</th>\n",
       "      <td>0.60728</td>\n",
       "      <td>1.264095</td>\n",
       "      <td>0.55012</td>\n",
       "      <td>-0.006315</td>\n",
       "      <td>NaN</td>\n",
       "      <td>NaN</td>\n",
       "    </tr>\n",
       "    <tr>\n",
       "      <th>...</th>\n",
       "      <td>...</td>\n",
       "      <td>...</td>\n",
       "      <td>...</td>\n",
       "      <td>...</td>\n",
       "      <td>...</td>\n",
       "      <td>...</td>\n",
       "    </tr>\n",
       "    <tr>\n",
       "      <th>2020-06-24</th>\n",
       "      <td>0.61349</td>\n",
       "      <td>1.131235</td>\n",
       "      <td>0.79841</td>\n",
       "      <td>0.002892</td>\n",
       "      <td>1.101794</td>\n",
       "      <td>1.103973</td>\n",
       "    </tr>\n",
       "    <tr>\n",
       "      <th>2020-06-25</th>\n",
       "      <td>0.60938</td>\n",
       "      <td>1.125087</td>\n",
       "      <td>0.80561</td>\n",
       "      <td>-0.005449</td>\n",
       "      <td>1.102486</td>\n",
       "      <td>1.104053</td>\n",
       "    </tr>\n",
       "    <tr>\n",
       "      <th>2020-06-26</th>\n",
       "      <td>0.61373</td>\n",
       "      <td>1.122208</td>\n",
       "      <td>0.80480</td>\n",
       "      <td>-0.002562</td>\n",
       "      <td>1.103213</td>\n",
       "      <td>1.104122</td>\n",
       "    </tr>\n",
       "    <tr>\n",
       "      <th>2020-06-29</th>\n",
       "      <td>0.61128</td>\n",
       "      <td>1.122586</td>\n",
       "      <td>0.81023</td>\n",
       "      <td>0.000337</td>\n",
       "      <td>1.103931</td>\n",
       "      <td>1.104164</td>\n",
       "    </tr>\n",
       "    <tr>\n",
       "      <th>2020-06-30</th>\n",
       "      <td>0.61097</td>\n",
       "      <td>1.124720</td>\n",
       "      <td>0.81231</td>\n",
       "      <td>0.001899</td>\n",
       "      <td>1.104695</td>\n",
       "      <td>1.104235</td>\n",
       "    </tr>\n",
       "  </tbody>\n",
       "</table>\n",
       "<p>4250 rows × 6 columns</p>\n",
       "</div>"
      ],
      "text/plain": [
       "            AUDEUR=X     price  USDGBP=X   returns  SMA_short  SMA_long\n",
       "Date                                                                   \n",
       "2004-01-01   0.59780  1.258194   0.56016       NaN        NaN       NaN\n",
       "2004-01-02   0.60314  1.258194   0.55751  0.000000        NaN       NaN\n",
       "2004-01-05   0.60467  1.268698   0.55334  0.008313        NaN       NaN\n",
       "2004-01-06   0.60350  1.272103   0.54906  0.002681        NaN       NaN\n",
       "2004-01-07   0.60728  1.264095   0.55012 -0.006315        NaN       NaN\n",
       "...              ...       ...       ...       ...        ...       ...\n",
       "2020-06-24   0.61349  1.131235   0.79841  0.002892   1.101794  1.103973\n",
       "2020-06-25   0.60938  1.125087   0.80561 -0.005449   1.102486  1.104053\n",
       "2020-06-26   0.61373  1.122208   0.80480 -0.002562   1.103213  1.104122\n",
       "2020-06-29   0.61128  1.122586   0.81023  0.000337   1.103931  1.104164\n",
       "2020-06-30   0.61097  1.124720   0.81231  0.001899   1.104695  1.104235\n",
       "\n",
       "[4250 rows x 6 columns]"
      ]
     },
     "execution_count": 154,
     "metadata": {},
     "output_type": "execute_result"
    }
   ],
   "source": [
    "tester.data"
   ]
  },
  {
   "cell_type": "code",
   "execution_count": 155,
   "metadata": {},
   "outputs": [
    {
     "data": {
      "text/html": [
       "<div>\n",
       "<style scoped>\n",
       "    .dataframe tbody tr th:only-of-type {\n",
       "        vertical-align: middle;\n",
       "    }\n",
       "\n",
       "    .dataframe tbody tr th {\n",
       "        vertical-align: top;\n",
       "    }\n",
       "\n",
       "    .dataframe thead th {\n",
       "        text-align: right;\n",
       "    }\n",
       "</style>\n",
       "<table border=\"1\" class=\"dataframe\">\n",
       "  <thead>\n",
       "    <tr style=\"text-align: right;\">\n",
       "      <th></th>\n",
       "      <th>AUDEUR=X</th>\n",
       "      <th>price</th>\n",
       "      <th>USDGBP=X</th>\n",
       "      <th>returns</th>\n",
       "      <th>SMA_short</th>\n",
       "      <th>SMA_long</th>\n",
       "      <th>position</th>\n",
       "      <th>strategy</th>\n",
       "      <th>creturns</th>\n",
       "      <th>cstrategy</th>\n",
       "    </tr>\n",
       "    <tr>\n",
       "      <th>Date</th>\n",
       "      <th></th>\n",
       "      <th></th>\n",
       "      <th></th>\n",
       "      <th></th>\n",
       "      <th></th>\n",
       "      <th></th>\n",
       "      <th></th>\n",
       "      <th></th>\n",
       "      <th></th>\n",
       "      <th></th>\n",
       "    </tr>\n",
       "  </thead>\n",
       "  <tbody>\n",
       "    <tr>\n",
       "      <th>2004-10-07</th>\n",
       "      <td>0.59147</td>\n",
       "      <td>1.229906</td>\n",
       "      <td>0.56101</td>\n",
       "      <td>0.001475</td>\n",
       "      <td>1.221840</td>\n",
       "      <td>1.226081</td>\n",
       "      <td>-1</td>\n",
       "      <td>-0.001475</td>\n",
       "      <td>1.001476</td>\n",
       "      <td>0.998526</td>\n",
       "    </tr>\n",
       "    <tr>\n",
       "      <th>2004-10-08</th>\n",
       "      <td>0.59207</td>\n",
       "      <td>1.241003</td>\n",
       "      <td>0.55704</td>\n",
       "      <td>0.008982</td>\n",
       "      <td>1.222628</td>\n",
       "      <td>1.225995</td>\n",
       "      <td>-1</td>\n",
       "      <td>-0.008982</td>\n",
       "      <td>1.010511</td>\n",
       "      <td>0.989598</td>\n",
       "    </tr>\n",
       "    <tr>\n",
       "      <th>2004-10-11</th>\n",
       "      <td>0.59252</td>\n",
       "      <td>1.238405</td>\n",
       "      <td>0.55596</td>\n",
       "      <td>-0.002095</td>\n",
       "      <td>1.223352</td>\n",
       "      <td>1.225843</td>\n",
       "      <td>-1</td>\n",
       "      <td>0.002095</td>\n",
       "      <td>1.008396</td>\n",
       "      <td>0.991673</td>\n",
       "    </tr>\n",
       "    <tr>\n",
       "      <th>2004-10-12</th>\n",
       "      <td>0.59154</td>\n",
       "      <td>1.232104</td>\n",
       "      <td>0.55832</td>\n",
       "      <td>-0.005102</td>\n",
       "      <td>1.223888</td>\n",
       "      <td>1.225643</td>\n",
       "      <td>-1</td>\n",
       "      <td>0.005102</td>\n",
       "      <td>1.003265</td>\n",
       "      <td>0.996746</td>\n",
       "    </tr>\n",
       "    <tr>\n",
       "      <th>2004-10-13</th>\n",
       "      <td>0.58768</td>\n",
       "      <td>1.234903</td>\n",
       "      <td>0.55763</td>\n",
       "      <td>0.002270</td>\n",
       "      <td>1.224466</td>\n",
       "      <td>1.225497</td>\n",
       "      <td>-1</td>\n",
       "      <td>-0.002270</td>\n",
       "      <td>1.005545</td>\n",
       "      <td>0.994486</td>\n",
       "    </tr>\n",
       "    <tr>\n",
       "      <th>...</th>\n",
       "      <td>...</td>\n",
       "      <td>...</td>\n",
       "      <td>...</td>\n",
       "      <td>...</td>\n",
       "      <td>...</td>\n",
       "      <td>...</td>\n",
       "      <td>...</td>\n",
       "      <td>...</td>\n",
       "      <td>...</td>\n",
       "      <td>...</td>\n",
       "    </tr>\n",
       "    <tr>\n",
       "      <th>2020-06-24</th>\n",
       "      <td>0.61349</td>\n",
       "      <td>1.131235</td>\n",
       "      <td>0.79841</td>\n",
       "      <td>0.002892</td>\n",
       "      <td>1.101794</td>\n",
       "      <td>1.103973</td>\n",
       "      <td>-1</td>\n",
       "      <td>-0.002892</td>\n",
       "      <td>0.921130</td>\n",
       "      <td>1.271272</td>\n",
       "    </tr>\n",
       "    <tr>\n",
       "      <th>2020-06-25</th>\n",
       "      <td>0.60938</td>\n",
       "      <td>1.125087</td>\n",
       "      <td>0.80561</td>\n",
       "      <td>-0.005449</td>\n",
       "      <td>1.102486</td>\n",
       "      <td>1.104053</td>\n",
       "      <td>-1</td>\n",
       "      <td>0.005449</td>\n",
       "      <td>0.916125</td>\n",
       "      <td>1.278218</td>\n",
       "    </tr>\n",
       "    <tr>\n",
       "      <th>2020-06-26</th>\n",
       "      <td>0.61373</td>\n",
       "      <td>1.122208</td>\n",
       "      <td>0.80480</td>\n",
       "      <td>-0.002562</td>\n",
       "      <td>1.103213</td>\n",
       "      <td>1.104122</td>\n",
       "      <td>-1</td>\n",
       "      <td>0.002562</td>\n",
       "      <td>0.913781</td>\n",
       "      <td>1.281497</td>\n",
       "    </tr>\n",
       "    <tr>\n",
       "      <th>2020-06-29</th>\n",
       "      <td>0.61128</td>\n",
       "      <td>1.122586</td>\n",
       "      <td>0.81023</td>\n",
       "      <td>0.000337</td>\n",
       "      <td>1.103931</td>\n",
       "      <td>1.104164</td>\n",
       "      <td>-1</td>\n",
       "      <td>-0.000337</td>\n",
       "      <td>0.914089</td>\n",
       "      <td>1.281065</td>\n",
       "    </tr>\n",
       "    <tr>\n",
       "      <th>2020-06-30</th>\n",
       "      <td>0.61097</td>\n",
       "      <td>1.124720</td>\n",
       "      <td>0.81231</td>\n",
       "      <td>0.001899</td>\n",
       "      <td>1.104695</td>\n",
       "      <td>1.104235</td>\n",
       "      <td>1</td>\n",
       "      <td>-0.001899</td>\n",
       "      <td>0.915826</td>\n",
       "      <td>1.278635</td>\n",
       "    </tr>\n",
       "  </tbody>\n",
       "</table>\n",
       "<p>4050 rows × 10 columns</p>\n",
       "</div>"
      ],
      "text/plain": [
       "            AUDEUR=X     price  USDGBP=X   returns  SMA_short  SMA_long  \\\n",
       "Date                                                                      \n",
       "2004-10-07   0.59147  1.229906   0.56101  0.001475   1.221840  1.226081   \n",
       "2004-10-08   0.59207  1.241003   0.55704  0.008982   1.222628  1.225995   \n",
       "2004-10-11   0.59252  1.238405   0.55596 -0.002095   1.223352  1.225843   \n",
       "2004-10-12   0.59154  1.232104   0.55832 -0.005102   1.223888  1.225643   \n",
       "2004-10-13   0.58768  1.234903   0.55763  0.002270   1.224466  1.225497   \n",
       "...              ...       ...       ...       ...        ...       ...   \n",
       "2020-06-24   0.61349  1.131235   0.79841  0.002892   1.101794  1.103973   \n",
       "2020-06-25   0.60938  1.125087   0.80561 -0.005449   1.102486  1.104053   \n",
       "2020-06-26   0.61373  1.122208   0.80480 -0.002562   1.103213  1.104122   \n",
       "2020-06-29   0.61128  1.122586   0.81023  0.000337   1.103931  1.104164   \n",
       "2020-06-30   0.61097  1.124720   0.81231  0.001899   1.104695  1.104235   \n",
       "\n",
       "            position  strategy  creturns  cstrategy  \n",
       "Date                                                 \n",
       "2004-10-07        -1 -0.001475  1.001476   0.998526  \n",
       "2004-10-08        -1 -0.008982  1.010511   0.989598  \n",
       "2004-10-11        -1  0.002095  1.008396   0.991673  \n",
       "2004-10-12        -1  0.005102  1.003265   0.996746  \n",
       "2004-10-13        -1 -0.002270  1.005545   0.994486  \n",
       "...              ...       ...       ...        ...  \n",
       "2020-06-24        -1 -0.002892  0.921130   1.271272  \n",
       "2020-06-25        -1  0.005449  0.916125   1.278218  \n",
       "2020-06-26        -1  0.002562  0.913781   1.281497  \n",
       "2020-06-29        -1 -0.000337  0.914089   1.281065  \n",
       "2020-06-30         1 -0.001899  0.915826   1.278635  \n",
       "\n",
       "[4050 rows x 10 columns]"
      ]
     },
     "execution_count": 155,
     "metadata": {},
     "output_type": "execute_result"
    }
   ],
   "source": [
    "tester.results"
   ]
  },
  {
   "cell_type": "code",
   "execution_count": null,
   "metadata": {},
   "outputs": [],
   "source": []
  },
  {
   "cell_type": "markdown",
   "metadata": {},
   "source": [
    "## Plotting the results"
   ]
  },
  {
   "cell_type": "code",
   "execution_count": 157,
   "metadata": {},
   "outputs": [],
   "source": [
    "class SMA():\n",
    "    def __init__(self, ticker, start, end, SMA_short, SMA_long):\n",
    "        self.ticker = ticker\n",
    "        self.SMA_short = SMA_short\n",
    "        self.SMA_long = SMA_long\n",
    "        self.start = start\n",
    "        self.end = end\n",
    "        self.results = None\n",
    "        self.get_data()\n",
    "        self.prepare_data()\n",
    "\n",
    "    def get_data(self):\n",
    "        ''' Imports the data from the specified source\n",
    "        '''\n",
    "        data = pd.read_csv(\"../csv_files_example/forex_pairs.csv\", parse_dates = [\"Date\"], index_col = \"Date\").dropna()\n",
    "        data[self.ticker].to_frame().dropna()\n",
    "        data = data.loc[self.start:self.end].copy()\n",
    "        data.rename(columns = {self.ticker: \"price\"}, inplace = True)\n",
    "        data[\"returns\"] = np.log(data.price.div(data.price.shift(1)))\n",
    "        self.data = data \n",
    "        return data\n",
    "    \n",
    "    def prepare_data(self):\n",
    "        ''' Prepares the data for SMA trading strategy backtesting\n",
    "        '''\n",
    "        data = self.data.copy()\n",
    "        data[\"SMA_short\"] = data[\"price\"].rolling(self.SMA_short).mean()\n",
    "        data[\"SMA_long\"] = data[\"price\"].rolling(self.SMA_long).mean()\n",
    "        self.data = data \n",
    "    \n",
    "    def set_parameters(self, new_SMA_short = None, new_SMA_long = None):\n",
    "        ''' Updates SMA parameters (SMA_short, SMA_long) and the prepared dataset\n",
    "        '''\n",
    "        if new_SMA_short is not None:\n",
    "            self.SMA_short = new_SMA_short\n",
    "            self.data[\"SMA_short\"] = self.data[\"price\"].rolling(self.SMA_short).mean()\n",
    "            \n",
    "        if new_SMA_long is not None:\n",
    "            self.SMA_long = new_SMA_long\n",
    "            self.data[\"SMA_long\"] = self.data[\"price\"].rolling(self.SMA_long).mean()\n",
    "            \n",
    "    def test_strategy(self):\n",
    "        ''' Backtests the SMA-based trading strategy\n",
    "        '''\n",
    "        data = self.data.copy().dropna()\n",
    "        data[\"position\"] = np.where(data[\"SMA_short\"] > data[\"SMA_long\"], 1, -1)\n",
    "        data[\"strategy\"] = data.position.shift(1) * data[\"returns\"]\n",
    "        data.dropna(inplace = True)\n",
    "        \n",
    "        data[\"creturns\"] = data[\"returns\"].cumsum().apply(np.exp)\n",
    "        data[\"cstrategy\"] = data[\"strategy\"].cumsum().apply(np.exp)\n",
    "        self.results = data\n",
    "       \n",
    "        performance = data[\"cstrategy\"].iloc[-1] # absolute performance of the strategy\n",
    "        outperformance = performance - data[\"creturns\"].iloc[-1] # out/underperformance of strategy\n",
    "        \n",
    "        return round(performance, 6), round(outperformance, 6)\n",
    "    \n",
    "    def plot_results(self):\n",
    "        ''' Plots the performance of the SMA trading strategy and compares to \"buy and hold\".\n",
    "        '''\n",
    "        if self.results is None:\n",
    "            print(\"Run test_strategy() first.\")\n",
    "        else:\n",
    "            title = f\"{self.ticker} | SMA short = {self.SMA_short} | SMA long = {self.SMA_long}\"\n",
    "            self.results[[\"creturns\", \"cstrategy\"]].plot(title = title, figsize = (12, 8))   "
   ]
  },
  {
   "cell_type": "code",
   "execution_count": 158,
   "metadata": {},
   "outputs": [],
   "source": [
    "tester = SMA(\"EURUSD=X\", \"2004-01-01\", \"2020-06-30\", 50, 200)"
   ]
  },
  {
   "cell_type": "code",
   "execution_count": 159,
   "metadata": {},
   "outputs": [
    {
     "name": "stdout",
     "output_type": "stream",
     "text": [
      "Run test_strategy() first.\n"
     ]
    }
   ],
   "source": [
    "tester.plot_results()"
   ]
  },
  {
   "cell_type": "code",
   "execution_count": 160,
   "metadata": {},
   "outputs": [
    {
     "data": {
      "text/plain": [
       "(1.278635, 0.362809)"
      ]
     },
     "execution_count": 160,
     "metadata": {},
     "output_type": "execute_result"
    }
   ],
   "source": [
    "tester.test_strategy()"
   ]
  },
  {
   "cell_type": "code",
   "execution_count": 161,
   "metadata": {},
   "outputs": [
    {
     "data": {
      "image/png": "[encoded data removed]",
      "text/plain": [
       "<Figure size 864x576 with 1 Axes>"
      ]
     },
     "metadata": {},
     "output_type": "display_data"
    }
   ],
   "source": [
    "tester.plot_results()"
   ]
  },
  {
   "cell_type": "code",
   "execution_count": null,
   "metadata": {},
   "outputs": [],
   "source": []
  },
  {
   "cell_type": "markdown",
   "metadata": {},
   "source": [
    "## Strategy Optimization"
   ]
  },
  {
   "cell_type": "code",
   "execution_count": 162,
   "metadata": {},
   "outputs": [],
   "source": [
    "tester.set_parameters(25, 150)"
   ]
  },
  {
   "cell_type": "code",
   "execution_count": 163,
   "metadata": {},
   "outputs": [
    {
     "data": {
      "text/plain": [
       "1.681541"
      ]
     },
     "execution_count": 163,
     "metadata": {},
     "output_type": "execute_result"
    }
   ],
   "source": [
    "tester.test_strategy()[0]"
   ]
  },
  {
   "cell_type": "code",
   "execution_count": 167,
   "metadata": {},
   "outputs": [],
   "source": [
    "class SMA():\n",
    "    def __init__(self, ticker, start, end, SMA_short, SMA_long):\n",
    "        self.ticker = ticker\n",
    "        self.SMA_short = SMA_short\n",
    "        self.SMA_long = SMA_long\n",
    "        self.start = start\n",
    "        self.end = end\n",
    "        self.results = None\n",
    "        self.get_data()\n",
    "        self.prepare_data()\n",
    "\n",
    "    def get_data(self):\n",
    "        ''' Imports the data from the specified source\n",
    "        '''\n",
    "        data = pd.read_csv(\"../csv_files_example/forex_pairs.csv\", parse_dates = [\"Date\"], index_col = \"Date\").dropna()\n",
    "        data[self.ticker].to_frame().dropna()\n",
    "        data = data.loc[self.start:self.end].copy()\n",
    "        data.rename(columns = {self.ticker: \"price\"}, inplace = True)\n",
    "        data[\"returns\"] = np.log(data.price.div(data.price.shift(1)))\n",
    "        self.data = data \n",
    "        return data\n",
    "    \n",
    "    def prepare_data(self):\n",
    "        ''' Prepares the data for SMA trading strategy backtesting\n",
    "        '''\n",
    "        data = self.data.copy()\n",
    "        data[\"SMA_short\"] = data[\"price\"].rolling(self.SMA_short).mean()\n",
    "        data[\"SMA_long\"] = data[\"price\"].rolling(self.SMA_long).mean()\n",
    "        self.data = data \n",
    "    \n",
    "    def set_parameters(self, new_SMA_short = None, new_SMA_long = None):\n",
    "        ''' Updates SMA parameters (SMA_short, SMA_long) and the prepared dataset\n",
    "        '''\n",
    "        if new_SMA_short is not None:\n",
    "            self.SMA_short = new_SMA_short\n",
    "            self.data[\"SMA_short\"] = self.data[\"price\"].rolling(self.SMA_short).mean()\n",
    "            \n",
    "        if new_SMA_long is not None:\n",
    "            self.SMA_long = new_SMA_long\n",
    "            self.data[\"SMA_long\"] = self.data[\"price\"].rolling(self.SMA_long).mean()\n",
    "            \n",
    "    def test_strategy(self):\n",
    "        ''' Backtests the SMA-based trading strategy\n",
    "        '''\n",
    "        data = self.data.copy().dropna()\n",
    "        data[\"position\"] = np.where(data[\"SMA_short\"] > data[\"SMA_long\"], 1, -1)\n",
    "        data[\"strategy\"] = data.position.shift(1) * data[\"returns\"]\n",
    "        data.dropna(inplace = True)\n",
    "        \n",
    "        data[\"creturns\"] = data[\"returns\"].cumsum().apply(np.exp)\n",
    "        data[\"cstrategy\"] = data[\"strategy\"].cumsum().apply(np.exp)\n",
    "        self.results = data\n",
    "       \n",
    "        performance = data[\"cstrategy\"].iloc[-1] # absolute performance of the strategy\n",
    "        outperformance = performance - data[\"creturns\"].iloc[-1] # out/underperformance of strategy\n",
    "        \n",
    "        return round(performance, 6), round(outperformance, 6)\n",
    "    \n",
    "    def plot_results(self):\n",
    "        ''' Plots the performance of the SMA trading strategy and compares to \"buy and hold\".\n",
    "        '''\n",
    "        if self.results is None:\n",
    "            print(\"Run test_strategy() first.\")\n",
    "        else:\n",
    "            title = f\"{self.ticker} | SMA short = {self.SMA_short} | SMA long = {self.SMA_long}\"\n",
    "            self.results[[\"creturns\", \"cstrategy\"]].plot(title = title, figsize = (12, 8)) \n",
    "            \n",
    "    def optimize_parameters(self, SMA_short_range, SMA_long_range):\n",
    "        ''' Finds the optimal strategy given the SMA parameters.\n",
    "\n",
    "        Parameters\n",
    "        ----------\n",
    "        SMA_short_range, SMA_long_range: int\n",
    "            tuples of the form (start, end, step size)        \n",
    "        '''\n",
    "        \n",
    "        combinations = list(product(range(*SMA_short_range), range(*SMA_long_range)))\n",
    "        \n",
    "        # test all combinations\n",
    "        results = []\n",
    "        for combination in combinations:\n",
    "            self.set_parameters(combination[0], combination[1])\n",
    "            results.append(self.test_strategy()[0])\n",
    "        \n",
    "        best_performance = np.max(results) # best performance\n",
    "        optimal_parameters = combinations[np.argmax(results)] # optimal parameters\n",
    "        \n",
    "        # set and run the optimal strategy\n",
    "        self.set_parameters(optimal_parameters[0], optimal_parameters[1])\n",
    "        self.test_strategy()\n",
    "                   \n",
    "        # create a dataframe with many results\n",
    "        many_results =  pd.DataFrame(data = combinations, columns = [\"SMA\", \"dev\"])\n",
    "        many_results[\"performance\"] = results\n",
    "        self.results_overview = many_results\n",
    "                            \n",
    "        return optimal_parameters, best_performance"
   ]
  },
  {
   "cell_type": "code",
   "execution_count": 168,
   "metadata": {},
   "outputs": [],
   "source": [
    "tester = SMA(\"EURUSD=X\", \"2004-01-01\", \"2020-06-30\", 50, 200)"
   ]
  },
  {
   "cell_type": "code",
   "execution_count": 169,
   "metadata": {},
   "outputs": [
    {
     "data": {
      "text/plain": [
       "(1.278635, 0.362809)"
      ]
     },
     "execution_count": 169,
     "metadata": {},
     "output_type": "execute_result"
    }
   ],
   "source": [
    "tester.test_strategy()"
   ]
  },
  {
   "cell_type": "code",
   "execution_count": 170,
   "metadata": {},
   "outputs": [
    {
     "data": {
      "text/plain": [
       "((47, 136), 2.709873)"
      ]
     },
     "execution_count": 170,
     "metadata": {},
     "output_type": "execute_result"
    }
   ],
   "source": [
    "tester.optimize_parameters((10, 50, 1), (100, 252, 1))"
   ]
  },
  {
   "cell_type": "code",
   "execution_count": 171,
   "metadata": {},
   "outputs": [
    {
     "data": {
      "image/png": "[encoded data removed]",
      "text/plain": [
       "<Figure size 864x576 with 1 Axes>"
      ]
     },
     "metadata": {},
     "output_type": "display_data"
    }
   ],
   "source": [
    "tester.plot_results()"
   ]
  },
  {
   "cell_type": "code",
   "execution_count": 172,
   "metadata": {},
   "outputs": [
    {
     "data": {
      "text/html": [
       "<div>\n",
       "<style scoped>\n",
       "    .dataframe tbody tr th:only-of-type {\n",
       "        vertical-align: middle;\n",
       "    }\n",
       "\n",
       "    .dataframe tbody tr th {\n",
       "        vertical-align: top;\n",
       "    }\n",
       "\n",
       "    .dataframe thead th {\n",
       "        text-align: right;\n",
       "    }\n",
       "</style>\n",
       "<table border=\"1\" class=\"dataframe\">\n",
       "  <thead>\n",
       "    <tr style=\"text-align: right;\">\n",
       "      <th></th>\n",
       "      <th>SMA</th>\n",
       "      <th>dev</th>\n",
       "      <th>performance</th>\n",
       "    </tr>\n",
       "  </thead>\n",
       "  <tbody>\n",
       "    <tr>\n",
       "      <th>0</th>\n",
       "      <td>10</td>\n",
       "      <td>100</td>\n",
       "      <td>0.914260</td>\n",
       "    </tr>\n",
       "    <tr>\n",
       "      <th>1</th>\n",
       "      <td>10</td>\n",
       "      <td>101</td>\n",
       "      <td>0.914831</td>\n",
       "    </tr>\n",
       "    <tr>\n",
       "      <th>2</th>\n",
       "      <td>10</td>\n",
       "      <td>102</td>\n",
       "      <td>0.918843</td>\n",
       "    </tr>\n",
       "    <tr>\n",
       "      <th>3</th>\n",
       "      <td>10</td>\n",
       "      <td>103</td>\n",
       "      <td>0.920983</td>\n",
       "    </tr>\n",
       "    <tr>\n",
       "      <th>4</th>\n",
       "      <td>10</td>\n",
       "      <td>104</td>\n",
       "      <td>0.994311</td>\n",
       "    </tr>\n",
       "    <tr>\n",
       "      <th>...</th>\n",
       "      <td>...</td>\n",
       "      <td>...</td>\n",
       "      <td>...</td>\n",
       "    </tr>\n",
       "    <tr>\n",
       "      <th>6075</th>\n",
       "      <td>49</td>\n",
       "      <td>247</td>\n",
       "      <td>1.271927</td>\n",
       "    </tr>\n",
       "    <tr>\n",
       "      <th>6076</th>\n",
       "      <td>49</td>\n",
       "      <td>248</td>\n",
       "      <td>1.292483</td>\n",
       "    </tr>\n",
       "    <tr>\n",
       "      <th>6077</th>\n",
       "      <td>49</td>\n",
       "      <td>249</td>\n",
       "      <td>1.220091</td>\n",
       "    </tr>\n",
       "    <tr>\n",
       "      <th>6078</th>\n",
       "      <td>49</td>\n",
       "      <td>250</td>\n",
       "      <td>1.227455</td>\n",
       "    </tr>\n",
       "    <tr>\n",
       "      <th>6079</th>\n",
       "      <td>49</td>\n",
       "      <td>251</td>\n",
       "      <td>1.222652</td>\n",
       "    </tr>\n",
       "  </tbody>\n",
       "</table>\n",
       "<p>6080 rows × 3 columns</p>\n",
       "</div>"
      ],
      "text/plain": [
       "      SMA  dev  performance\n",
       "0      10  100     0.914260\n",
       "1      10  101     0.914831\n",
       "2      10  102     0.918843\n",
       "3      10  103     0.920983\n",
       "4      10  104     0.994311\n",
       "...   ...  ...          ...\n",
       "6075   49  247     1.271927\n",
       "6076   49  248     1.292483\n",
       "6077   49  249     1.220091\n",
       "6078   49  250     1.227455\n",
       "6079   49  251     1.222652\n",
       "\n",
       "[6080 rows x 3 columns]"
      ]
     },
     "execution_count": 172,
     "metadata": {},
     "output_type": "execute_result"
    }
   ],
   "source": [
    "tester.results_overview"
   ]
  },
  {
   "cell_type": "code",
   "execution_count": null,
   "metadata": {},
   "outputs": [],
   "source": []
  }
 ],
 "metadata": {
  "kernelspec": {
   "display_name": "Python 3",
   "language": "python",
   "name": "python3"
  },
  "language_info": {
   "codemirror_mode": {
    "name": "ipython",
    "version": 3
   },
   "file_extension": ".py",
   "mimetype": "text/x-python",
   "name": "python",
   "nbconvert_exporter": "python",
   "pygments_lexer": "ipython3",
   "version": "3.8.8"
  }
 },
 "nbformat": 4,
 "nbformat_minor": 4
}
