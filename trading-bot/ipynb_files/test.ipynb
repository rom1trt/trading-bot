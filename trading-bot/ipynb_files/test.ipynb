{
 "cells": [
  {
   "cell_type": "markdown",
   "id": "ed2496f6",
   "metadata": {},
   "source": [
    "# Simple Linear Model To Predict Financial Returns"
   ]
  },
  {
   "cell_type": "code",
   "execution_count": 32,
   "id": "24ae2bb1",
   "metadata": {},
   "outputs": [],
   "source": [
    "import pandas as pd\n",
    "import numpy as np\n",
    "import matplotlib.pyplot as plt\n",
    "from sklearn.linear_model import LinearRegression"
   ]
  },
  {
   "cell_type": "code",
   "execution_count": 33,
   "id": "a238e8bf",
   "metadata": {},
   "outputs": [],
   "source": [
    "data = pd.read_csv(\"five_minute.csv\", parse_dates = [\"time\"], index_col = \"time\")"
   ]
  },
  {
   "cell_type": "code",
   "execution_count": 34,
   "id": "80f2beeb",
   "metadata": {},
   "outputs": [],
   "source": [
    "data[\"returns\"] = np.log(data.price.div(data.price.shift(1)))"
   ]
  },
  {
   "cell_type": "code",
   "execution_count": 35,
   "id": "52023398",
   "metadata": {},
   "outputs": [],
   "source": [
    "data[\"lag1\"] = data.returns.shift(1)"
   ]
  },
  {
   "cell_type": "code",
   "execution_count": 36,
   "id": "97551f62",
   "metadata": {},
   "outputs": [
    {
     "data": {
      "text/html": [
       "<div>\n",
       "<style scoped>\n",
       "    .dataframe tbody tr th:only-of-type {\n",
       "        vertical-align: middle;\n",
       "    }\n",
       "\n",
       "    .dataframe tbody tr th {\n",
       "        vertical-align: top;\n",
       "    }\n",
       "\n",
       "    .dataframe thead th {\n",
       "        text-align: right;\n",
       "    }\n",
       "</style>\n",
       "<table border=\"1\" class=\"dataframe\">\n",
       "  <thead>\n",
       "    <tr style=\"text-align: right;\">\n",
       "      <th></th>\n",
       "      <th>price</th>\n",
       "      <th>returns</th>\n",
       "      <th>lag1</th>\n",
       "    </tr>\n",
       "    <tr>\n",
       "      <th>time</th>\n",
       "      <th></th>\n",
       "      <th></th>\n",
       "      <th></th>\n",
       "    </tr>\n",
       "  </thead>\n",
       "  <tbody>\n",
       "    <tr>\n",
       "      <th>2019-01-01 22:00:00+00:00</th>\n",
       "      <td>1.146580</td>\n",
       "      <td>NaN</td>\n",
       "      <td>NaN</td>\n",
       "    </tr>\n",
       "    <tr>\n",
       "      <th>2019-01-01 22:05:00+00:00</th>\n",
       "      <td>1.146350</td>\n",
       "      <td>-0.000201</td>\n",
       "      <td>NaN</td>\n",
       "    </tr>\n",
       "    <tr>\n",
       "      <th>2019-01-01 22:10:00+00:00</th>\n",
       "      <td>1.146320</td>\n",
       "      <td>-0.000026</td>\n",
       "      <td>-0.000201</td>\n",
       "    </tr>\n",
       "    <tr>\n",
       "      <th>2019-01-01 22:15:00+00:00</th>\n",
       "      <td>1.146320</td>\n",
       "      <td>0.000000</td>\n",
       "      <td>-0.000026</td>\n",
       "    </tr>\n",
       "    <tr>\n",
       "      <th>2019-01-01 22:20:00+00:00</th>\n",
       "      <td>1.146530</td>\n",
       "      <td>0.000183</td>\n",
       "      <td>0.000000</td>\n",
       "    </tr>\n",
       "    <tr>\n",
       "      <th>...</th>\n",
       "      <td>...</td>\n",
       "      <td>...</td>\n",
       "      <td>...</td>\n",
       "    </tr>\n",
       "    <tr>\n",
       "      <th>2019-12-30 23:35:00+00:00</th>\n",
       "      <td>1.120180</td>\n",
       "      <td>-0.000004</td>\n",
       "      <td>-0.000112</td>\n",
       "    </tr>\n",
       "    <tr>\n",
       "      <th>2019-12-30 23:40:00+00:00</th>\n",
       "      <td>1.120210</td>\n",
       "      <td>0.000027</td>\n",
       "      <td>-0.000004</td>\n",
       "    </tr>\n",
       "    <tr>\n",
       "      <th>2019-12-30 23:45:00+00:00</th>\n",
       "      <td>1.120295</td>\n",
       "      <td>0.000076</td>\n",
       "      <td>0.000027</td>\n",
       "    </tr>\n",
       "    <tr>\n",
       "      <th>2019-12-30 23:50:00+00:00</th>\n",
       "      <td>1.120275</td>\n",
       "      <td>-0.000018</td>\n",
       "      <td>0.000076</td>\n",
       "    </tr>\n",
       "    <tr>\n",
       "      <th>2019-12-30 23:55:00+00:00</th>\n",
       "      <td>1.120130</td>\n",
       "      <td>-0.000129</td>\n",
       "      <td>-0.000018</td>\n",
       "    </tr>\n",
       "  </tbody>\n",
       "</table>\n",
       "<p>73720 rows × 3 columns</p>\n",
       "</div>"
      ],
      "text/plain": [
       "                              price   returns      lag1\n",
       "time                                                   \n",
       "2019-01-01 22:00:00+00:00  1.146580       NaN       NaN\n",
       "2019-01-01 22:05:00+00:00  1.146350 -0.000201       NaN\n",
       "2019-01-01 22:10:00+00:00  1.146320 -0.000026 -0.000201\n",
       "2019-01-01 22:15:00+00:00  1.146320  0.000000 -0.000026\n",
       "2019-01-01 22:20:00+00:00  1.146530  0.000183  0.000000\n",
       "...                             ...       ...       ...\n",
       "2019-12-30 23:35:00+00:00  1.120180 -0.000004 -0.000112\n",
       "2019-12-30 23:40:00+00:00  1.120210  0.000027 -0.000004\n",
       "2019-12-30 23:45:00+00:00  1.120295  0.000076  0.000027\n",
       "2019-12-30 23:50:00+00:00  1.120275 -0.000018  0.000076\n",
       "2019-12-30 23:55:00+00:00  1.120130 -0.000129 -0.000018\n",
       "\n",
       "[73720 rows x 3 columns]"
      ]
     },
     "execution_count": 36,
     "metadata": {},
     "output_type": "execute_result"
    }
   ],
   "source": [
    "data"
   ]
  },
  {
   "cell_type": "code",
   "execution_count": 37,
   "id": "a12d4aed",
   "metadata": {},
   "outputs": [],
   "source": [
    "data.dropna(inplace = True)"
   ]
  },
  {
   "cell_type": "code",
   "execution_count": 39,
   "id": "e8a64f0c",
   "metadata": {},
   "outputs": [],
   "source": [
    "lm = LinearRegression(fit_intercept=True)"
   ]
  },
  {
   "cell_type": "code",
   "execution_count": 40,
   "id": "712701b7",
   "metadata": {},
   "outputs": [
    {
     "data": {
      "text/plain": [
       "LinearRegression()"
      ]
     },
     "execution_count": 40,
     "metadata": {},
     "output_type": "execute_result"
    }
   ],
   "source": [
    "lm.fit(data.lag1.to_frame(), data.returns)"
   ]
  },
  {
   "cell_type": "code",
   "execution_count": 41,
   "id": "6c62947f",
   "metadata": {},
   "outputs": [
    {
     "data": {
      "text/plain": [
       "array([-0.03350837])"
      ]
     },
     "execution_count": 41,
     "metadata": {},
     "output_type": "execute_result"
    }
   ],
   "source": [
    "slope = lm.coef_\n",
    "slope"
   ]
  },
  {
   "cell_type": "code",
   "execution_count": 43,
   "id": "fdc6c3d0",
   "metadata": {},
   "outputs": [
    {
     "data": {
      "text/plain": [
       "-3.2442471445009334e-07"
      ]
     },
     "execution_count": 43,
     "metadata": {},
     "output_type": "execute_result"
    }
   ],
   "source": [
    "intercept = lm.intercept_\n",
    "intercept"
   ]
  },
  {
   "cell_type": "code",
   "execution_count": 49,
   "id": "26486d71",
   "metadata": {},
   "outputs": [
    {
     "data": {
      "text/html": [
       "<div>\n",
       "<style scoped>\n",
       "    .dataframe tbody tr th:only-of-type {\n",
       "        vertical-align: middle;\n",
       "    }\n",
       "\n",
       "    .dataframe tbody tr th {\n",
       "        vertical-align: top;\n",
       "    }\n",
       "\n",
       "    .dataframe thead th {\n",
       "        text-align: right;\n",
       "    }\n",
       "</style>\n",
       "<table border=\"1\" class=\"dataframe\">\n",
       "  <thead>\n",
       "    <tr style=\"text-align: right;\">\n",
       "      <th></th>\n",
       "      <th>price</th>\n",
       "      <th>returns</th>\n",
       "      <th>lag1</th>\n",
       "      <th>pred</th>\n",
       "    </tr>\n",
       "    <tr>\n",
       "      <th>time</th>\n",
       "      <th></th>\n",
       "      <th></th>\n",
       "      <th></th>\n",
       "      <th></th>\n",
       "    </tr>\n",
       "  </thead>\n",
       "  <tbody>\n",
       "    <tr>\n",
       "      <th>2019-01-01 22:10:00+00:00</th>\n",
       "      <td>1.146320</td>\n",
       "      <td>-0.000026</td>\n",
       "      <td>-0.000201</td>\n",
       "      <td>6.397912e-06</td>\n",
       "    </tr>\n",
       "    <tr>\n",
       "      <th>2019-01-01 22:15:00+00:00</th>\n",
       "      <td>1.146320</td>\n",
       "      <td>0.000000</td>\n",
       "      <td>-0.000026</td>\n",
       "      <td>5.525013e-07</td>\n",
       "    </tr>\n",
       "    <tr>\n",
       "      <th>2019-01-01 22:20:00+00:00</th>\n",
       "      <td>1.146530</td>\n",
       "      <td>0.000183</td>\n",
       "      <td>0.000000</td>\n",
       "      <td>-3.244247e-07</td>\n",
       "    </tr>\n",
       "    <tr>\n",
       "      <th>2019-01-01 22:25:00+00:00</th>\n",
       "      <td>1.146475</td>\n",
       "      <td>-0.000048</td>\n",
       "      <td>0.000183</td>\n",
       "      <td>-6.462425e-06</td>\n",
       "    </tr>\n",
       "    <tr>\n",
       "      <th>2019-01-01 22:30:00+00:00</th>\n",
       "      <td>1.146455</td>\n",
       "      <td>-0.000017</td>\n",
       "      <td>-0.000048</td>\n",
       "      <td>1.283038e-06</td>\n",
       "    </tr>\n",
       "    <tr>\n",
       "      <th>...</th>\n",
       "      <td>...</td>\n",
       "      <td>...</td>\n",
       "      <td>...</td>\n",
       "      <td>...</td>\n",
       "    </tr>\n",
       "    <tr>\n",
       "      <th>2019-12-30 23:35:00+00:00</th>\n",
       "      <td>1.120180</td>\n",
       "      <td>-0.000004</td>\n",
       "      <td>-0.000112</td>\n",
       "      <td>3.414522e-06</td>\n",
       "    </tr>\n",
       "    <tr>\n",
       "      <th>2019-12-30 23:40:00+00:00</th>\n",
       "      <td>1.120210</td>\n",
       "      <td>0.000027</td>\n",
       "      <td>-0.000004</td>\n",
       "      <td>-1.748582e-07</td>\n",
       "    </tr>\n",
       "    <tr>\n",
       "      <th>2019-12-30 23:45:00+00:00</th>\n",
       "      <td>1.120295</td>\n",
       "      <td>0.000076</td>\n",
       "      <td>0.000027</td>\n",
       "      <td>-1.221814e-06</td>\n",
       "    </tr>\n",
       "    <tr>\n",
       "      <th>2019-12-30 23:50:00+00:00</th>\n",
       "      <td>1.120275</td>\n",
       "      <td>-0.000018</td>\n",
       "      <td>0.000076</td>\n",
       "      <td>-2.866897e-06</td>\n",
       "    </tr>\n",
       "    <tr>\n",
       "      <th>2019-12-30 23:55:00+00:00</th>\n",
       "      <td>1.120130</td>\n",
       "      <td>-0.000129</td>\n",
       "      <td>-0.000018</td>\n",
       "      <td>2.737867e-07</td>\n",
       "    </tr>\n",
       "  </tbody>\n",
       "</table>\n",
       "<p>73718 rows × 4 columns</p>\n",
       "</div>"
      ],
      "text/plain": [
       "                              price   returns      lag1          pred\n",
       "time                                                                 \n",
       "2019-01-01 22:10:00+00:00  1.146320 -0.000026 -0.000201  6.397912e-06\n",
       "2019-01-01 22:15:00+00:00  1.146320  0.000000 -0.000026  5.525013e-07\n",
       "2019-01-01 22:20:00+00:00  1.146530  0.000183  0.000000 -3.244247e-07\n",
       "2019-01-01 22:25:00+00:00  1.146475 -0.000048  0.000183 -6.462425e-06\n",
       "2019-01-01 22:30:00+00:00  1.146455 -0.000017 -0.000048  1.283038e-06\n",
       "...                             ...       ...       ...           ...\n",
       "2019-12-30 23:35:00+00:00  1.120180 -0.000004 -0.000112  3.414522e-06\n",
       "2019-12-30 23:40:00+00:00  1.120210  0.000027 -0.000004 -1.748582e-07\n",
       "2019-12-30 23:45:00+00:00  1.120295  0.000076  0.000027 -1.221814e-06\n",
       "2019-12-30 23:50:00+00:00  1.120275 -0.000018  0.000076 -2.866897e-06\n",
       "2019-12-30 23:55:00+00:00  1.120130 -0.000129 -0.000018  2.737867e-07\n",
       "\n",
       "[73718 rows x 4 columns]"
      ]
     },
     "execution_count": 49,
     "metadata": {},
     "output_type": "execute_result"
    }
   ],
   "source": [
    "data[\"pred\"] = lm.predict(data.lag1.to_frame())\n",
    "data"
   ]
  },
  {
   "cell_type": "code",
   "execution_count": 56,
   "id": "2bcad7f0",
   "metadata": {},
   "outputs": [
    {
     "data": {
      "image/png": "[encoded data removed]",
      "text/plain": [
       "<Figure size 864x576 with 1 Axes>"
      ]
     },
     "metadata": {
      "needs_background": "light"
     },
     "output_type": "display_data"
    }
   ],
   "source": [
    "plt.figure(figsize = (12, 8))\n",
    "plt.scatter(x = data.lag1, y = data.returns, label = \"Data\")\n",
    "plt.plot(data.lag1, data.pred, c = \"red\", label = \"Linear Regression\")\n",
    "plt.xlim(-0.005, 0.005)\n",
    "plt.ylim(-0.005, 0.005)\n",
    "plt.legend(fontsize = 13)\n",
    "plt.xlabel(\"Lag1 Returns\", fontsize = 13)\n",
    "plt.ylabel(\"Returns\", fontsize = 13)\n",
    "plt.show()"
   ]
  },
  {
   "cell_type": "code",
   "execution_count": 47,
   "id": "3b5d7460",
   "metadata": {},
   "outputs": [
    {
     "data": {
      "image/png": "[encoded data removed]",
      "text/plain": [
       "<Figure size 864x576 with 1 Axes>"
      ]
     },
     "metadata": {
      "needs_background": "light"
     },
     "output_type": "display_data"
    }
   ],
   "source": [
    "data[[\"returns\", \"pred\"]].plot(figsize = (12, 8))\n",
    "plt.show()"
   ]
  },
  {
   "cell_type": "code",
   "execution_count": 48,
   "id": "1ba187fc",
   "metadata": {},
   "outputs": [
    {
     "data": {
      "text/html": [
       "<div>\n",
       "<style scoped>\n",
       "    .dataframe tbody tr th:only-of-type {\n",
       "        vertical-align: middle;\n",
       "    }\n",
       "\n",
       "    .dataframe tbody tr th {\n",
       "        vertical-align: top;\n",
       "    }\n",
       "\n",
       "    .dataframe thead th {\n",
       "        text-align: right;\n",
       "    }\n",
       "</style>\n",
       "<table border=\"1\" class=\"dataframe\">\n",
       "  <thead>\n",
       "    <tr style=\"text-align: right;\">\n",
       "      <th></th>\n",
       "      <th>price</th>\n",
       "      <th>returns</th>\n",
       "      <th>lag1</th>\n",
       "      <th>pred</th>\n",
       "    </tr>\n",
       "    <tr>\n",
       "      <th>time</th>\n",
       "      <th></th>\n",
       "      <th></th>\n",
       "      <th></th>\n",
       "      <th></th>\n",
       "    </tr>\n",
       "  </thead>\n",
       "  <tbody>\n",
       "    <tr>\n",
       "      <th>2019-01-01 22:10:00+00:00</th>\n",
       "      <td>1.146320</td>\n",
       "      <td>-0.000026</td>\n",
       "      <td>-0.000201</td>\n",
       "      <td>1.0</td>\n",
       "    </tr>\n",
       "    <tr>\n",
       "      <th>2019-01-01 22:15:00+00:00</th>\n",
       "      <td>1.146320</td>\n",
       "      <td>0.000000</td>\n",
       "      <td>-0.000026</td>\n",
       "      <td>1.0</td>\n",
       "    </tr>\n",
       "    <tr>\n",
       "      <th>2019-01-01 22:20:00+00:00</th>\n",
       "      <td>1.146530</td>\n",
       "      <td>0.000183</td>\n",
       "      <td>0.000000</td>\n",
       "      <td>-1.0</td>\n",
       "    </tr>\n",
       "    <tr>\n",
       "      <th>2019-01-01 22:25:00+00:00</th>\n",
       "      <td>1.146475</td>\n",
       "      <td>-0.000048</td>\n",
       "      <td>0.000183</td>\n",
       "      <td>-1.0</td>\n",
       "    </tr>\n",
       "    <tr>\n",
       "      <th>2019-01-01 22:30:00+00:00</th>\n",
       "      <td>1.146455</td>\n",
       "      <td>-0.000017</td>\n",
       "      <td>-0.000048</td>\n",
       "      <td>1.0</td>\n",
       "    </tr>\n",
       "    <tr>\n",
       "      <th>...</th>\n",
       "      <td>...</td>\n",
       "      <td>...</td>\n",
       "      <td>...</td>\n",
       "      <td>...</td>\n",
       "    </tr>\n",
       "    <tr>\n",
       "      <th>2019-12-30 23:35:00+00:00</th>\n",
       "      <td>1.120180</td>\n",
       "      <td>-0.000004</td>\n",
       "      <td>-0.000112</td>\n",
       "      <td>1.0</td>\n",
       "    </tr>\n",
       "    <tr>\n",
       "      <th>2019-12-30 23:40:00+00:00</th>\n",
       "      <td>1.120210</td>\n",
       "      <td>0.000027</td>\n",
       "      <td>-0.000004</td>\n",
       "      <td>-1.0</td>\n",
       "    </tr>\n",
       "    <tr>\n",
       "      <th>2019-12-30 23:45:00+00:00</th>\n",
       "      <td>1.120295</td>\n",
       "      <td>0.000076</td>\n",
       "      <td>0.000027</td>\n",
       "      <td>-1.0</td>\n",
       "    </tr>\n",
       "    <tr>\n",
       "      <th>2019-12-30 23:50:00+00:00</th>\n",
       "      <td>1.120275</td>\n",
       "      <td>-0.000018</td>\n",
       "      <td>0.000076</td>\n",
       "      <td>-1.0</td>\n",
       "    </tr>\n",
       "    <tr>\n",
       "      <th>2019-12-30 23:55:00+00:00</th>\n",
       "      <td>1.120130</td>\n",
       "      <td>-0.000129</td>\n",
       "      <td>-0.000018</td>\n",
       "      <td>1.0</td>\n",
       "    </tr>\n",
       "  </tbody>\n",
       "</table>\n",
       "<p>73718 rows × 4 columns</p>\n",
       "</div>"
      ],
      "text/plain": [
       "                              price   returns      lag1  pred\n",
       "time                                                         \n",
       "2019-01-01 22:10:00+00:00  1.146320 -0.000026 -0.000201   1.0\n",
       "2019-01-01 22:15:00+00:00  1.146320  0.000000 -0.000026   1.0\n",
       "2019-01-01 22:20:00+00:00  1.146530  0.000183  0.000000  -1.0\n",
       "2019-01-01 22:25:00+00:00  1.146475 -0.000048  0.000183  -1.0\n",
       "2019-01-01 22:30:00+00:00  1.146455 -0.000017 -0.000048   1.0\n",
       "...                             ...       ...       ...   ...\n",
       "2019-12-30 23:35:00+00:00  1.120180 -0.000004 -0.000112   1.0\n",
       "2019-12-30 23:40:00+00:00  1.120210  0.000027 -0.000004  -1.0\n",
       "2019-12-30 23:45:00+00:00  1.120295  0.000076  0.000027  -1.0\n",
       "2019-12-30 23:50:00+00:00  1.120275 -0.000018  0.000076  -1.0\n",
       "2019-12-30 23:55:00+00:00  1.120130 -0.000129 -0.000018   1.0\n",
       "\n",
       "[73718 rows x 4 columns]"
      ]
     },
     "execution_count": 48,
     "metadata": {},
     "output_type": "execute_result"
    }
   ],
   "source": [
    "data.pred = np.sign(data.pred) # Maybe the model can predict the market direction (1, -1) instead of the returns\n",
    "data"
   ]
  },
  {
   "cell_type": "code",
   "execution_count": 50,
   "id": "a1187934",
   "metadata": {},
   "outputs": [
    {
     "data": {
      "text/plain": [
       "time\n",
       "2019-01-01 22:10:00+00:00   -1.0\n",
       "2019-01-01 22:15:00+00:00    0.0\n",
       "2019-01-01 22:20:00+00:00   -1.0\n",
       "2019-01-01 22:25:00+00:00    1.0\n",
       "2019-01-01 22:30:00+00:00   -1.0\n",
       "                            ... \n",
       "2019-12-30 23:35:00+00:00   -1.0\n",
       "2019-12-30 23:40:00+00:00   -1.0\n",
       "2019-12-30 23:45:00+00:00   -1.0\n",
       "2019-12-30 23:50:00+00:00    1.0\n",
       "2019-12-30 23:55:00+00:00   -1.0\n",
       "Length: 73718, dtype: float64"
      ]
     },
     "execution_count": 50,
     "metadata": {},
     "output_type": "execute_result"
    }
   ],
   "source": [
    "np.sign(data.returns * data.pred)"
   ]
  },
  {
   "cell_type": "code",
   "execution_count": 53,
   "id": "aa9f0833",
   "metadata": {},
   "outputs": [
    {
     "data": {
      "text/plain": [
       " 1.0    37451\n",
       "-1.0    34308\n",
       " 0.0     1959\n",
       "dtype: int64"
      ]
     },
     "execution_count": 53,
     "metadata": {},
     "output_type": "execute_result"
    }
   ],
   "source": [
    "hits = np.sign(data.returns * data.pred).value_counts()\n",
    "hits"
   ]
  },
  {
   "cell_type": "code",
   "execution_count": 55,
   "id": "65e3f361",
   "metadata": {},
   "outputs": [
    {
     "data": {
      "text/plain": [
       "0.5080306031091457"
      ]
     },
     "execution_count": 55,
     "metadata": {},
     "output_type": "execute_result"
    }
   ],
   "source": [
    "hit_ratio = hits[1.0] / sum(hits)\n",
    "hit_ratio # Percentage of correctly forecasted market directions"
   ]
  },
  {
   "cell_type": "markdown",
   "id": "5d206725",
   "metadata": {},
   "source": [
    "# Multiple Regression Model"
   ]
  },
  {
   "cell_type": "code",
   "execution_count": 57,
   "id": "81b2458a",
   "metadata": {},
   "outputs": [
    {
     "name": "stdout",
     "output_type": "stream",
     "text": [
      "<class 'pandas.core.frame.DataFrame'>\n",
      "DatetimeIndex: 73720 entries, 2019-01-01 22:00:00+00:00 to 2019-12-30 23:55:00+00:00\n",
      "Data columns (total 1 columns):\n",
      " #   Column  Non-Null Count  Dtype  \n",
      "---  ------  --------------  -----  \n",
      " 0   price   73720 non-null  float64\n",
      "dtypes: float64(1)\n",
      "memory usage: 1.1 MB\n"
     ]
    }
   ],
   "source": [
    "data = pd.read_csv(\"five_minute.csv\", parse_dates = [\"time\"], index_col = \"time\")\n",
    "data.info()\n",
    "data.dropna(inplace = True)"
   ]
  },
  {
   "cell_type": "code",
   "execution_count": 58,
   "id": "03263e23",
   "metadata": {},
   "outputs": [],
   "source": [
    "data[\"returns\"] = np.log(data.price.div(data.price.shift(1)))"
   ]
  },
  {
   "cell_type": "code",
   "execution_count": 61,
   "id": "728c9fca",
   "metadata": {},
   "outputs": [
    {
     "data": {
      "text/html": [
       "<div>\n",
       "<style scoped>\n",
       "    .dataframe tbody tr th:only-of-type {\n",
       "        vertical-align: middle;\n",
       "    }\n",
       "\n",
       "    .dataframe tbody tr th {\n",
       "        vertical-align: top;\n",
       "    }\n",
       "\n",
       "    .dataframe thead th {\n",
       "        text-align: right;\n",
       "    }\n",
       "</style>\n",
       "<table border=\"1\" class=\"dataframe\">\n",
       "  <thead>\n",
       "    <tr style=\"text-align: right;\">\n",
       "      <th></th>\n",
       "      <th>price</th>\n",
       "      <th>returns</th>\n",
       "      <th>lag1</th>\n",
       "      <th>lag2</th>\n",
       "      <th>lag3</th>\n",
       "      <th>lag4</th>\n",
       "      <th>lag5</th>\n",
       "    </tr>\n",
       "    <tr>\n",
       "      <th>time</th>\n",
       "      <th></th>\n",
       "      <th></th>\n",
       "      <th></th>\n",
       "      <th></th>\n",
       "      <th></th>\n",
       "      <th></th>\n",
       "      <th></th>\n",
       "    </tr>\n",
       "  </thead>\n",
       "  <tbody>\n",
       "    <tr>\n",
       "      <th>2019-01-02 01:50:00+00:00</th>\n",
       "      <td>1.144755</td>\n",
       "      <td>-0.000118</td>\n",
       "      <td>-0.000441</td>\n",
       "      <td>0.000148</td>\n",
       "      <td>-0.000044</td>\n",
       "      <td>0.000035</td>\n",
       "      <td>-0.000170</td>\n",
       "    </tr>\n",
       "    <tr>\n",
       "      <th>2019-01-02 01:55:00+00:00</th>\n",
       "      <td>1.145230</td>\n",
       "      <td>0.000415</td>\n",
       "      <td>-0.000118</td>\n",
       "      <td>-0.000441</td>\n",
       "      <td>0.000148</td>\n",
       "      <td>-0.000044</td>\n",
       "      <td>0.000035</td>\n",
       "    </tr>\n",
       "    <tr>\n",
       "      <th>2019-01-02 02:00:00+00:00</th>\n",
       "      <td>1.145300</td>\n",
       "      <td>0.000061</td>\n",
       "      <td>0.000415</td>\n",
       "      <td>-0.000118</td>\n",
       "      <td>-0.000441</td>\n",
       "      <td>0.000148</td>\n",
       "      <td>-0.000044</td>\n",
       "    </tr>\n",
       "    <tr>\n",
       "      <th>2019-01-02 02:05:00+00:00</th>\n",
       "      <td>1.145170</td>\n",
       "      <td>-0.000114</td>\n",
       "      <td>0.000061</td>\n",
       "      <td>0.000415</td>\n",
       "      <td>-0.000118</td>\n",
       "      <td>-0.000441</td>\n",
       "      <td>0.000148</td>\n",
       "    </tr>\n",
       "    <tr>\n",
       "      <th>2019-01-02 02:10:00+00:00</th>\n",
       "      <td>1.145335</td>\n",
       "      <td>0.000144</td>\n",
       "      <td>-0.000114</td>\n",
       "      <td>0.000061</td>\n",
       "      <td>0.000415</td>\n",
       "      <td>-0.000118</td>\n",
       "      <td>-0.000441</td>\n",
       "    </tr>\n",
       "    <tr>\n",
       "      <th>...</th>\n",
       "      <td>...</td>\n",
       "      <td>...</td>\n",
       "      <td>...</td>\n",
       "      <td>...</td>\n",
       "      <td>...</td>\n",
       "      <td>...</td>\n",
       "      <td>...</td>\n",
       "    </tr>\n",
       "    <tr>\n",
       "      <th>2019-12-30 23:35:00+00:00</th>\n",
       "      <td>1.120180</td>\n",
       "      <td>-0.000004</td>\n",
       "      <td>-0.000112</td>\n",
       "      <td>-0.000018</td>\n",
       "      <td>0.000022</td>\n",
       "      <td>-0.000004</td>\n",
       "      <td>0.000089</td>\n",
       "    </tr>\n",
       "    <tr>\n",
       "      <th>2019-12-30 23:40:00+00:00</th>\n",
       "      <td>1.120210</td>\n",
       "      <td>0.000027</td>\n",
       "      <td>-0.000004</td>\n",
       "      <td>-0.000112</td>\n",
       "      <td>-0.000018</td>\n",
       "      <td>0.000022</td>\n",
       "      <td>-0.000004</td>\n",
       "    </tr>\n",
       "    <tr>\n",
       "      <th>2019-12-30 23:45:00+00:00</th>\n",
       "      <td>1.120295</td>\n",
       "      <td>0.000076</td>\n",
       "      <td>0.000027</td>\n",
       "      <td>-0.000004</td>\n",
       "      <td>-0.000112</td>\n",
       "      <td>-0.000018</td>\n",
       "      <td>0.000022</td>\n",
       "    </tr>\n",
       "    <tr>\n",
       "      <th>2019-12-30 23:50:00+00:00</th>\n",
       "      <td>1.120275</td>\n",
       "      <td>-0.000018</td>\n",
       "      <td>0.000076</td>\n",
       "      <td>0.000027</td>\n",
       "      <td>-0.000004</td>\n",
       "      <td>-0.000112</td>\n",
       "      <td>-0.000018</td>\n",
       "    </tr>\n",
       "    <tr>\n",
       "      <th>2019-12-30 23:55:00+00:00</th>\n",
       "      <td>1.120130</td>\n",
       "      <td>-0.000129</td>\n",
       "      <td>-0.000018</td>\n",
       "      <td>0.000076</td>\n",
       "      <td>0.000027</td>\n",
       "      <td>-0.000004</td>\n",
       "      <td>-0.000112</td>\n",
       "    </tr>\n",
       "  </tbody>\n",
       "</table>\n",
       "<p>73674 rows × 7 columns</p>\n",
       "</div>"
      ],
      "text/plain": [
       "                              price   returns      lag1      lag2      lag3  \\\n",
       "time                                                                          \n",
       "2019-01-02 01:50:00+00:00  1.144755 -0.000118 -0.000441  0.000148 -0.000044   \n",
       "2019-01-02 01:55:00+00:00  1.145230  0.000415 -0.000118 -0.000441  0.000148   \n",
       "2019-01-02 02:00:00+00:00  1.145300  0.000061  0.000415 -0.000118 -0.000441   \n",
       "2019-01-02 02:05:00+00:00  1.145170 -0.000114  0.000061  0.000415 -0.000118   \n",
       "2019-01-02 02:10:00+00:00  1.145335  0.000144 -0.000114  0.000061  0.000415   \n",
       "...                             ...       ...       ...       ...       ...   \n",
       "2019-12-30 23:35:00+00:00  1.120180 -0.000004 -0.000112 -0.000018  0.000022   \n",
       "2019-12-30 23:40:00+00:00  1.120210  0.000027 -0.000004 -0.000112 -0.000018   \n",
       "2019-12-30 23:45:00+00:00  1.120295  0.000076  0.000027 -0.000004 -0.000112   \n",
       "2019-12-30 23:50:00+00:00  1.120275 -0.000018  0.000076  0.000027 -0.000004   \n",
       "2019-12-30 23:55:00+00:00  1.120130 -0.000129 -0.000018  0.000076  0.000027   \n",
       "\n",
       "                               lag4      lag5  \n",
       "time                                           \n",
       "2019-01-02 01:50:00+00:00  0.000035 -0.000170  \n",
       "2019-01-02 01:55:00+00:00 -0.000044  0.000035  \n",
       "2019-01-02 02:00:00+00:00  0.000148 -0.000044  \n",
       "2019-01-02 02:05:00+00:00 -0.000441  0.000148  \n",
       "2019-01-02 02:10:00+00:00 -0.000118 -0.000441  \n",
       "...                             ...       ...  \n",
       "2019-12-30 23:35:00+00:00 -0.000004  0.000089  \n",
       "2019-12-30 23:40:00+00:00  0.000022 -0.000004  \n",
       "2019-12-30 23:45:00+00:00 -0.000018  0.000022  \n",
       "2019-12-30 23:50:00+00:00 -0.000112 -0.000018  \n",
       "2019-12-30 23:55:00+00:00 -0.000004 -0.000112  \n",
       "\n",
       "[73674 rows x 7 columns]"
      ]
     },
     "execution_count": 61,
     "metadata": {},
     "output_type": "execute_result"
    }
   ],
   "source": [
    "lags = 5\n",
    "cols = []\n",
    "for lag in range(1, lags + 1):\n",
    "    col = f\"lag{lag}\"\n",
    "    data[col] = data.returns.shift(lag)\n",
    "    cols.append(col)\n",
    "    data.dropna(inplace = True)\n",
    "data"
   ]
  },
  {
   "cell_type": "code",
   "execution_count": null,
   "id": "0ba2ba35",
   "metadata": {},
   "outputs": [],
   "source": [
    "cols"
   ]
  },
  {
   "cell_type": "code",
   "execution_count": 62,
   "id": "05d25138",
   "metadata": {},
   "outputs": [],
   "source": [
    "lm = LinearRegression(fit_intercept = True)"
   ]
  },
  {
   "cell_type": "code",
   "execution_count": 63,
   "id": "1eb7ff40",
   "metadata": {},
   "outputs": [
    {
     "data": {
      "text/plain": [
       "LinearRegression()"
      ]
     },
     "execution_count": 63,
     "metadata": {},
     "output_type": "execute_result"
    }
   ],
   "source": [
    "lm.fit(data[cols], data.returns)"
   ]
  },
  {
   "cell_type": "code",
   "execution_count": 65,
   "id": "aada5320",
   "metadata": {},
   "outputs": [
    {
     "data": {
      "text/plain": [
       "array([-0.03357275, -0.00239478,  0.00363812, -0.00366518, -0.00357698])"
      ]
     },
     "execution_count": 65,
     "metadata": {},
     "output_type": "execute_result"
    }
   ],
   "source": [
    "lm.coef_\n"
   ]
  },
  {
   "cell_type": "code",
   "execution_count": 66,
   "id": "62f4bec2",
   "metadata": {},
   "outputs": [
    {
     "data": {
      "text/plain": [
       "-3.0867461875375376e-07"
      ]
     },
     "execution_count": 66,
     "metadata": {},
     "output_type": "execute_result"
    }
   ],
   "source": [
    "lm.intercept_"
   ]
  },
  {
   "cell_type": "code",
   "execution_count": 68,
   "id": "6f531340",
   "metadata": {},
   "outputs": [],
   "source": [
    "data[\"pred\"] = lm.predict(data[cols].values)"
   ]
  },
  {
   "cell_type": "code",
   "execution_count": 69,
   "id": "261e3c8a",
   "metadata": {},
   "outputs": [
    {
     "data": {
      "text/html": [
       "<div>\n",
       "<style scoped>\n",
       "    .dataframe tbody tr th:only-of-type {\n",
       "        vertical-align: middle;\n",
       "    }\n",
       "\n",
       "    .dataframe tbody tr th {\n",
       "        vertical-align: top;\n",
       "    }\n",
       "\n",
       "    .dataframe thead th {\n",
       "        text-align: right;\n",
       "    }\n",
       "</style>\n",
       "<table border=\"1\" class=\"dataframe\">\n",
       "  <thead>\n",
       "    <tr style=\"text-align: right;\">\n",
       "      <th></th>\n",
       "      <th>price</th>\n",
       "      <th>returns</th>\n",
       "      <th>lag1</th>\n",
       "      <th>lag2</th>\n",
       "      <th>lag3</th>\n",
       "      <th>lag4</th>\n",
       "      <th>lag5</th>\n",
       "      <th>pred</th>\n",
       "    </tr>\n",
       "    <tr>\n",
       "      <th>time</th>\n",
       "      <th></th>\n",
       "      <th></th>\n",
       "      <th></th>\n",
       "      <th></th>\n",
       "      <th></th>\n",
       "      <th></th>\n",
       "      <th></th>\n",
       "      <th></th>\n",
       "    </tr>\n",
       "  </thead>\n",
       "  <tbody>\n",
       "    <tr>\n",
       "      <th>2019-01-02 01:50:00+00:00</th>\n",
       "      <td>1.144755</td>\n",
       "      <td>-0.000118</td>\n",
       "      <td>-0.000441</td>\n",
       "      <td>0.000148</td>\n",
       "      <td>-0.000044</td>\n",
       "      <td>0.000035</td>\n",
       "      <td>-0.000170</td>\n",
       "      <td>1.0</td>\n",
       "    </tr>\n",
       "    <tr>\n",
       "      <th>2019-01-02 01:55:00+00:00</th>\n",
       "      <td>1.145230</td>\n",
       "      <td>0.000415</td>\n",
       "      <td>-0.000118</td>\n",
       "      <td>-0.000441</td>\n",
       "      <td>0.000148</td>\n",
       "      <td>-0.000044</td>\n",
       "      <td>0.000035</td>\n",
       "      <td>1.0</td>\n",
       "    </tr>\n",
       "    <tr>\n",
       "      <th>2019-01-02 02:00:00+00:00</th>\n",
       "      <td>1.145300</td>\n",
       "      <td>0.000061</td>\n",
       "      <td>0.000415</td>\n",
       "      <td>-0.000118</td>\n",
       "      <td>-0.000441</td>\n",
       "      <td>0.000148</td>\n",
       "      <td>-0.000044</td>\n",
       "      <td>-1.0</td>\n",
       "    </tr>\n",
       "    <tr>\n",
       "      <th>2019-01-02 02:05:00+00:00</th>\n",
       "      <td>1.145170</td>\n",
       "      <td>-0.000114</td>\n",
       "      <td>0.000061</td>\n",
       "      <td>0.000415</td>\n",
       "      <td>-0.000118</td>\n",
       "      <td>-0.000441</td>\n",
       "      <td>0.000148</td>\n",
       "      <td>-1.0</td>\n",
       "    </tr>\n",
       "    <tr>\n",
       "      <th>2019-01-02 02:10:00+00:00</th>\n",
       "      <td>1.145335</td>\n",
       "      <td>0.000144</td>\n",
       "      <td>-0.000114</td>\n",
       "      <td>0.000061</td>\n",
       "      <td>0.000415</td>\n",
       "      <td>-0.000118</td>\n",
       "      <td>-0.000441</td>\n",
       "      <td>1.0</td>\n",
       "    </tr>\n",
       "    <tr>\n",
       "      <th>...</th>\n",
       "      <td>...</td>\n",
       "      <td>...</td>\n",
       "      <td>...</td>\n",
       "      <td>...</td>\n",
       "      <td>...</td>\n",
       "      <td>...</td>\n",
       "      <td>...</td>\n",
       "      <td>...</td>\n",
       "    </tr>\n",
       "    <tr>\n",
       "      <th>2019-12-30 23:35:00+00:00</th>\n",
       "      <td>1.120180</td>\n",
       "      <td>-0.000004</td>\n",
       "      <td>-0.000112</td>\n",
       "      <td>-0.000018</td>\n",
       "      <td>0.000022</td>\n",
       "      <td>-0.000004</td>\n",
       "      <td>0.000089</td>\n",
       "      <td>1.0</td>\n",
       "    </tr>\n",
       "    <tr>\n",
       "      <th>2019-12-30 23:40:00+00:00</th>\n",
       "      <td>1.120210</td>\n",
       "      <td>0.000027</td>\n",
       "      <td>-0.000004</td>\n",
       "      <td>-0.000112</td>\n",
       "      <td>-0.000018</td>\n",
       "      <td>0.000022</td>\n",
       "      <td>-0.000004</td>\n",
       "      <td>-1.0</td>\n",
       "    </tr>\n",
       "    <tr>\n",
       "      <th>2019-12-30 23:45:00+00:00</th>\n",
       "      <td>1.120295</td>\n",
       "      <td>0.000076</td>\n",
       "      <td>0.000027</td>\n",
       "      <td>-0.000004</td>\n",
       "      <td>-0.000112</td>\n",
       "      <td>-0.000018</td>\n",
       "      <td>0.000022</td>\n",
       "      <td>-1.0</td>\n",
       "    </tr>\n",
       "    <tr>\n",
       "      <th>2019-12-30 23:50:00+00:00</th>\n",
       "      <td>1.120275</td>\n",
       "      <td>-0.000018</td>\n",
       "      <td>0.000076</td>\n",
       "      <td>0.000027</td>\n",
       "      <td>-0.000004</td>\n",
       "      <td>-0.000112</td>\n",
       "      <td>-0.000018</td>\n",
       "      <td>-1.0</td>\n",
       "    </tr>\n",
       "    <tr>\n",
       "      <th>2019-12-30 23:55:00+00:00</th>\n",
       "      <td>1.120130</td>\n",
       "      <td>-0.000129</td>\n",
       "      <td>-0.000018</td>\n",
       "      <td>0.000076</td>\n",
       "      <td>0.000027</td>\n",
       "      <td>-0.000004</td>\n",
       "      <td>-0.000112</td>\n",
       "      <td>1.0</td>\n",
       "    </tr>\n",
       "  </tbody>\n",
       "</table>\n",
       "<p>73674 rows × 8 columns</p>\n",
       "</div>"
      ],
      "text/plain": [
       "                              price   returns      lag1      lag2      lag3  \\\n",
       "time                                                                          \n",
       "2019-01-02 01:50:00+00:00  1.144755 -0.000118 -0.000441  0.000148 -0.000044   \n",
       "2019-01-02 01:55:00+00:00  1.145230  0.000415 -0.000118 -0.000441  0.000148   \n",
       "2019-01-02 02:00:00+00:00  1.145300  0.000061  0.000415 -0.000118 -0.000441   \n",
       "2019-01-02 02:05:00+00:00  1.145170 -0.000114  0.000061  0.000415 -0.000118   \n",
       "2019-01-02 02:10:00+00:00  1.145335  0.000144 -0.000114  0.000061  0.000415   \n",
       "...                             ...       ...       ...       ...       ...   \n",
       "2019-12-30 23:35:00+00:00  1.120180 -0.000004 -0.000112 -0.000018  0.000022   \n",
       "2019-12-30 23:40:00+00:00  1.120210  0.000027 -0.000004 -0.000112 -0.000018   \n",
       "2019-12-30 23:45:00+00:00  1.120295  0.000076  0.000027 -0.000004 -0.000112   \n",
       "2019-12-30 23:50:00+00:00  1.120275 -0.000018  0.000076  0.000027 -0.000004   \n",
       "2019-12-30 23:55:00+00:00  1.120130 -0.000129 -0.000018  0.000076  0.000027   \n",
       "\n",
       "                               lag4      lag5  pred  \n",
       "time                                                 \n",
       "2019-01-02 01:50:00+00:00  0.000035 -0.000170   1.0  \n",
       "2019-01-02 01:55:00+00:00 -0.000044  0.000035   1.0  \n",
       "2019-01-02 02:00:00+00:00  0.000148 -0.000044  -1.0  \n",
       "2019-01-02 02:05:00+00:00 -0.000441  0.000148  -1.0  \n",
       "2019-01-02 02:10:00+00:00 -0.000118 -0.000441   1.0  \n",
       "...                             ...       ...   ...  \n",
       "2019-12-30 23:35:00+00:00 -0.000004  0.000089   1.0  \n",
       "2019-12-30 23:40:00+00:00  0.000022 -0.000004  -1.0  \n",
       "2019-12-30 23:45:00+00:00 -0.000018  0.000022  -1.0  \n",
       "2019-12-30 23:50:00+00:00 -0.000112 -0.000018  -1.0  \n",
       "2019-12-30 23:55:00+00:00 -0.000004 -0.000112   1.0  \n",
       "\n",
       "[73674 rows x 8 columns]"
      ]
     },
     "execution_count": 69,
     "metadata": {},
     "output_type": "execute_result"
    }
   ],
   "source": [
    "data.pred= np.sign(data.pred)\n",
    "data"
   ]
  },
  {
   "cell_type": "code",
   "execution_count": 70,
   "id": "d474998d",
   "metadata": {},
   "outputs": [
    {
     "data": {
      "text/plain": [
       "-1.0    39449\n",
       " 1.0    34225\n",
       "Name: pred, dtype: int64"
      ]
     },
     "execution_count": 70,
     "metadata": {},
     "output_type": "execute_result"
    }
   ],
   "source": [
    "data.pred.value_counts()"
   ]
  },
  {
   "cell_type": "code",
   "execution_count": 72,
   "id": "a038d0fb",
   "metadata": {},
   "outputs": [
    {
     "data": {
      "text/plain": [
       "0.5080306031091457"
      ]
     },
     "execution_count": 72,
     "metadata": {},
     "output_type": "execute_result"
    }
   ],
   "source": [
    "hit_ratio = hits[1.0] / sum(hits)\n",
    "hit_ratio"
   ]
  },
  {
   "cell_type": "markdown",
   "id": "aae5be5d",
   "metadata": {},
   "source": [
    "   # In-sample Backtesting Strategy"
   ]
  },
  {
   "cell_type": "code",
   "execution_count": 96,
   "id": "4812b324",
   "metadata": {},
   "outputs": [
    {
     "data": {
      "text/html": [
       "<div>\n",
       "<style scoped>\n",
       "    .dataframe tbody tr th:only-of-type {\n",
       "        vertical-align: middle;\n",
       "    }\n",
       "\n",
       "    .dataframe tbody tr th {\n",
       "        vertical-align: top;\n",
       "    }\n",
       "\n",
       "    .dataframe thead th {\n",
       "        text-align: right;\n",
       "    }\n",
       "</style>\n",
       "<table border=\"1\" class=\"dataframe\">\n",
       "  <thead>\n",
       "    <tr style=\"text-align: right;\">\n",
       "      <th></th>\n",
       "      <th>price</th>\n",
       "      <th>returns</th>\n",
       "      <th>lag1</th>\n",
       "      <th>lag2</th>\n",
       "      <th>lag3</th>\n",
       "      <th>lag4</th>\n",
       "      <th>lag5</th>\n",
       "      <th>pred</th>\n",
       "    </tr>\n",
       "    <tr>\n",
       "      <th>time</th>\n",
       "      <th></th>\n",
       "      <th></th>\n",
       "      <th></th>\n",
       "      <th></th>\n",
       "      <th></th>\n",
       "      <th></th>\n",
       "      <th></th>\n",
       "      <th></th>\n",
       "    </tr>\n",
       "  </thead>\n",
       "  <tbody>\n",
       "    <tr>\n",
       "      <th>2019-01-01 23:20:00+00:00</th>\n",
       "      <td>1.146695</td>\n",
       "      <td>0.000022</td>\n",
       "      <td>0.000065</td>\n",
       "      <td>0.000057</td>\n",
       "      <td>-0.000017</td>\n",
       "      <td>0.000122</td>\n",
       "      <td>-0.000057</td>\n",
       "      <td>-1.0</td>\n",
       "    </tr>\n",
       "    <tr>\n",
       "      <th>2019-01-01 23:25:00+00:00</th>\n",
       "      <td>1.146650</td>\n",
       "      <td>-0.000039</td>\n",
       "      <td>0.000022</td>\n",
       "      <td>0.000065</td>\n",
       "      <td>0.000057</td>\n",
       "      <td>-0.000017</td>\n",
       "      <td>0.000122</td>\n",
       "      <td>-1.0</td>\n",
       "    </tr>\n",
       "    <tr>\n",
       "      <th>2019-01-01 23:30:00+00:00</th>\n",
       "      <td>1.146555</td>\n",
       "      <td>-0.000083</td>\n",
       "      <td>-0.000039</td>\n",
       "      <td>0.000022</td>\n",
       "      <td>0.000065</td>\n",
       "      <td>0.000057</td>\n",
       "      <td>-0.000017</td>\n",
       "      <td>1.0</td>\n",
       "    </tr>\n",
       "    <tr>\n",
       "      <th>2019-01-01 23:35:00+00:00</th>\n",
       "      <td>1.146630</td>\n",
       "      <td>0.000065</td>\n",
       "      <td>-0.000083</td>\n",
       "      <td>-0.000039</td>\n",
       "      <td>0.000022</td>\n",
       "      <td>0.000065</td>\n",
       "      <td>0.000057</td>\n",
       "      <td>1.0</td>\n",
       "    </tr>\n",
       "    <tr>\n",
       "      <th>2019-01-01 23:40:00+00:00</th>\n",
       "      <td>1.146500</td>\n",
       "      <td>-0.000113</td>\n",
       "      <td>0.000065</td>\n",
       "      <td>-0.000083</td>\n",
       "      <td>-0.000039</td>\n",
       "      <td>0.000022</td>\n",
       "      <td>0.000065</td>\n",
       "      <td>-1.0</td>\n",
       "    </tr>\n",
       "    <tr>\n",
       "      <th>...</th>\n",
       "      <td>...</td>\n",
       "      <td>...</td>\n",
       "      <td>...</td>\n",
       "      <td>...</td>\n",
       "      <td>...</td>\n",
       "      <td>...</td>\n",
       "      <td>...</td>\n",
       "      <td>...</td>\n",
       "    </tr>\n",
       "    <tr>\n",
       "      <th>2019-12-30 23:35:00+00:00</th>\n",
       "      <td>1.120180</td>\n",
       "      <td>-0.000004</td>\n",
       "      <td>-0.000112</td>\n",
       "      <td>-0.000018</td>\n",
       "      <td>0.000022</td>\n",
       "      <td>-0.000004</td>\n",
       "      <td>0.000089</td>\n",
       "      <td>1.0</td>\n",
       "    </tr>\n",
       "    <tr>\n",
       "      <th>2019-12-30 23:40:00+00:00</th>\n",
       "      <td>1.120210</td>\n",
       "      <td>0.000027</td>\n",
       "      <td>-0.000004</td>\n",
       "      <td>-0.000112</td>\n",
       "      <td>-0.000018</td>\n",
       "      <td>0.000022</td>\n",
       "      <td>-0.000004</td>\n",
       "      <td>-1.0</td>\n",
       "    </tr>\n",
       "    <tr>\n",
       "      <th>2019-12-30 23:45:00+00:00</th>\n",
       "      <td>1.120295</td>\n",
       "      <td>0.000076</td>\n",
       "      <td>0.000027</td>\n",
       "      <td>-0.000004</td>\n",
       "      <td>-0.000112</td>\n",
       "      <td>-0.000018</td>\n",
       "      <td>0.000022</td>\n",
       "      <td>-1.0</td>\n",
       "    </tr>\n",
       "    <tr>\n",
       "      <th>2019-12-30 23:50:00+00:00</th>\n",
       "      <td>1.120275</td>\n",
       "      <td>-0.000018</td>\n",
       "      <td>0.000076</td>\n",
       "      <td>0.000027</td>\n",
       "      <td>-0.000004</td>\n",
       "      <td>-0.000112</td>\n",
       "      <td>-0.000018</td>\n",
       "      <td>-1.0</td>\n",
       "    </tr>\n",
       "    <tr>\n",
       "      <th>2019-12-30 23:55:00+00:00</th>\n",
       "      <td>1.120130</td>\n",
       "      <td>-0.000129</td>\n",
       "      <td>-0.000018</td>\n",
       "      <td>0.000076</td>\n",
       "      <td>0.000027</td>\n",
       "      <td>-0.000004</td>\n",
       "      <td>-0.000112</td>\n",
       "      <td>1.0</td>\n",
       "    </tr>\n",
       "  </tbody>\n",
       "</table>\n",
       "<p>73704 rows × 8 columns</p>\n",
       "</div>"
      ],
      "text/plain": [
       "                              price   returns      lag1      lag2      lag3  \\\n",
       "time                                                                          \n",
       "2019-01-01 23:20:00+00:00  1.146695  0.000022  0.000065  0.000057 -0.000017   \n",
       "2019-01-01 23:25:00+00:00  1.146650 -0.000039  0.000022  0.000065  0.000057   \n",
       "2019-01-01 23:30:00+00:00  1.146555 -0.000083 -0.000039  0.000022  0.000065   \n",
       "2019-01-01 23:35:00+00:00  1.146630  0.000065 -0.000083 -0.000039  0.000022   \n",
       "2019-01-01 23:40:00+00:00  1.146500 -0.000113  0.000065 -0.000083 -0.000039   \n",
       "...                             ...       ...       ...       ...       ...   \n",
       "2019-12-30 23:35:00+00:00  1.120180 -0.000004 -0.000112 -0.000018  0.000022   \n",
       "2019-12-30 23:40:00+00:00  1.120210  0.000027 -0.000004 -0.000112 -0.000018   \n",
       "2019-12-30 23:45:00+00:00  1.120295  0.000076  0.000027 -0.000004 -0.000112   \n",
       "2019-12-30 23:50:00+00:00  1.120275 -0.000018  0.000076  0.000027 -0.000004   \n",
       "2019-12-30 23:55:00+00:00  1.120130 -0.000129 -0.000018  0.000076  0.000027   \n",
       "\n",
       "                               lag4      lag5  pred  \n",
       "time                                                 \n",
       "2019-01-01 23:20:00+00:00  0.000122 -0.000057  -1.0  \n",
       "2019-01-01 23:25:00+00:00 -0.000017  0.000122  -1.0  \n",
       "2019-01-01 23:30:00+00:00  0.000057 -0.000017   1.0  \n",
       "2019-01-01 23:35:00+00:00  0.000065  0.000057   1.0  \n",
       "2019-01-01 23:40:00+00:00  0.000022  0.000065  -1.0  \n",
       "...                             ...       ...   ...  \n",
       "2019-12-30 23:35:00+00:00 -0.000004  0.000089   1.0  \n",
       "2019-12-30 23:40:00+00:00  0.000022 -0.000004  -1.0  \n",
       "2019-12-30 23:45:00+00:00 -0.000018  0.000022  -1.0  \n",
       "2019-12-30 23:50:00+00:00 -0.000112 -0.000018  -1.0  \n",
       "2019-12-30 23:55:00+00:00 -0.000004 -0.000112   1.0  \n",
       "\n",
       "[73704 rows x 8 columns]"
      ]
     },
     "execution_count": 96,
     "metadata": {},
     "output_type": "execute_result"
    }
   ],
   "source": [
    "data"
   ]
  },
  {
   "cell_type": "code",
   "execution_count": 97,
   "id": "1951251e",
   "metadata": {},
   "outputs": [],
   "source": [
    "data[\"strategy\"] = data.pred * data.returns"
   ]
  },
  {
   "cell_type": "code",
   "execution_count": 98,
   "id": "bed0e180",
   "metadata": {},
   "outputs": [],
   "source": [
    "data[\"creturns\"] = data[\"returns\"].cumsum().apply(np.exp)\n",
    "data[\"cstrategy\"] = data[\"strategy\"].cumsum().apply(np.exp)"
   ]
  },
  {
   "cell_type": "code",
   "execution_count": 99,
   "id": "25ada391",
   "metadata": {},
   "outputs": [
    {
     "data": {
      "image/png": "[encoded data removed]",
      "text/plain": [
       "<Figure size 864x576 with 1 Axes>"
      ]
     },
     "metadata": {
      "needs_background": "light"
     },
     "output_type": "display_data"
    }
   ],
   "source": [
    "data[[\"creturns\", \"cstrategy\"]].plot(figsize = (12, 8))\n",
    "plt.show()"
   ]
  },
  {
   "cell_type": "code",
   "execution_count": 100,
   "id": "3adb64f0",
   "metadata": {},
   "outputs": [],
   "source": [
    "data[\"trades\"] = data.pred.diff().fillna(0).abs()"
   ]
  },
  {
   "cell_type": "code",
   "execution_count": 101,
   "id": "13cfa793",
   "metadata": {},
   "outputs": [
    {
     "data": {
      "text/plain": [
       "0.0    37061\n",
       "2.0    36643\n",
       "Name: trades, dtype: int64"
      ]
     },
     "execution_count": 101,
     "metadata": {},
     "output_type": "execute_result"
    }
   ],
   "source": [
    "data.trades.value_counts()"
   ]
  },
  {
   "cell_type": "code",
   "execution_count": 102,
   "id": "fe1b5ca4",
   "metadata": {},
   "outputs": [
    {
     "data": {
      "text/plain": [
       "0.5086426788234018"
      ]
     },
     "execution_count": 102,
     "metadata": {},
     "output_type": "execute_result"
    }
   ],
   "source": [
    "hit_ratio = hits[1.0] / sum(hits)\n",
    "hit_ratio"
   ]
  },
  {
   "cell_type": "markdown",
   "id": "24685cc6",
   "metadata": {},
   "source": [
    "# Out-Sample Forward Testing"
   ]
  },
  {
   "cell_type": "code",
   "execution_count": 88,
   "id": "f113dd51",
   "metadata": {},
   "outputs": [],
   "source": [
    "data = pd.read_csv(\"five_minute.csv\", parse_dates = [\"time\"], index_col = \"time\")"
   ]
  },
  {
   "cell_type": "code",
   "execution_count": 89,
   "id": "f5f3c0f9",
   "metadata": {},
   "outputs": [],
   "source": [
    "data[\"returns\"] = np.log(data.price.div(data.price.shift(1)))"
   ]
  },
  {
   "cell_type": "code",
   "execution_count": 90,
   "id": "e49ae4dc",
   "metadata": {},
   "outputs": [],
   "source": [
    "lags = 5"
   ]
  },
  {
   "cell_type": "code",
   "execution_count": 91,
   "id": "f401d524",
   "metadata": {},
   "outputs": [
    {
     "data": {
      "text/html": [
       "<div>\n",
       "<style scoped>\n",
       "    .dataframe tbody tr th:only-of-type {\n",
       "        vertical-align: middle;\n",
       "    }\n",
       "\n",
       "    .dataframe tbody tr th {\n",
       "        vertical-align: top;\n",
       "    }\n",
       "\n",
       "    .dataframe thead th {\n",
       "        text-align: right;\n",
       "    }\n",
       "</style>\n",
       "<table border=\"1\" class=\"dataframe\">\n",
       "  <thead>\n",
       "    <tr style=\"text-align: right;\">\n",
       "      <th></th>\n",
       "      <th>price</th>\n",
       "      <th>returns</th>\n",
       "      <th>lag1</th>\n",
       "      <th>lag2</th>\n",
       "      <th>lag3</th>\n",
       "      <th>lag4</th>\n",
       "      <th>lag5</th>\n",
       "    </tr>\n",
       "    <tr>\n",
       "      <th>time</th>\n",
       "      <th></th>\n",
       "      <th></th>\n",
       "      <th></th>\n",
       "      <th></th>\n",
       "      <th></th>\n",
       "      <th></th>\n",
       "      <th></th>\n",
       "    </tr>\n",
       "  </thead>\n",
       "  <tbody>\n",
       "    <tr>\n",
       "      <th>2019-01-01 23:20:00+00:00</th>\n",
       "      <td>1.146695</td>\n",
       "      <td>0.000022</td>\n",
       "      <td>0.000065</td>\n",
       "      <td>0.000057</td>\n",
       "      <td>-0.000017</td>\n",
       "      <td>0.000122</td>\n",
       "      <td>-0.000057</td>\n",
       "    </tr>\n",
       "    <tr>\n",
       "      <th>2019-01-01 23:25:00+00:00</th>\n",
       "      <td>1.146650</td>\n",
       "      <td>-0.000039</td>\n",
       "      <td>0.000022</td>\n",
       "      <td>0.000065</td>\n",
       "      <td>0.000057</td>\n",
       "      <td>-0.000017</td>\n",
       "      <td>0.000122</td>\n",
       "    </tr>\n",
       "    <tr>\n",
       "      <th>2019-01-01 23:30:00+00:00</th>\n",
       "      <td>1.146555</td>\n",
       "      <td>-0.000083</td>\n",
       "      <td>-0.000039</td>\n",
       "      <td>0.000022</td>\n",
       "      <td>0.000065</td>\n",
       "      <td>0.000057</td>\n",
       "      <td>-0.000017</td>\n",
       "    </tr>\n",
       "    <tr>\n",
       "      <th>2019-01-01 23:35:00+00:00</th>\n",
       "      <td>1.146630</td>\n",
       "      <td>0.000065</td>\n",
       "      <td>-0.000083</td>\n",
       "      <td>-0.000039</td>\n",
       "      <td>0.000022</td>\n",
       "      <td>0.000065</td>\n",
       "      <td>0.000057</td>\n",
       "    </tr>\n",
       "    <tr>\n",
       "      <th>2019-01-01 23:40:00+00:00</th>\n",
       "      <td>1.146500</td>\n",
       "      <td>-0.000113</td>\n",
       "      <td>0.000065</td>\n",
       "      <td>-0.000083</td>\n",
       "      <td>-0.000039</td>\n",
       "      <td>0.000022</td>\n",
       "      <td>0.000065</td>\n",
       "    </tr>\n",
       "    <tr>\n",
       "      <th>...</th>\n",
       "      <td>...</td>\n",
       "      <td>...</td>\n",
       "      <td>...</td>\n",
       "      <td>...</td>\n",
       "      <td>...</td>\n",
       "      <td>...</td>\n",
       "      <td>...</td>\n",
       "    </tr>\n",
       "    <tr>\n",
       "      <th>2019-12-30 23:35:00+00:00</th>\n",
       "      <td>1.120180</td>\n",
       "      <td>-0.000004</td>\n",
       "      <td>-0.000112</td>\n",
       "      <td>-0.000018</td>\n",
       "      <td>0.000022</td>\n",
       "      <td>-0.000004</td>\n",
       "      <td>0.000089</td>\n",
       "    </tr>\n",
       "    <tr>\n",
       "      <th>2019-12-30 23:40:00+00:00</th>\n",
       "      <td>1.120210</td>\n",
       "      <td>0.000027</td>\n",
       "      <td>-0.000004</td>\n",
       "      <td>-0.000112</td>\n",
       "      <td>-0.000018</td>\n",
       "      <td>0.000022</td>\n",
       "      <td>-0.000004</td>\n",
       "    </tr>\n",
       "    <tr>\n",
       "      <th>2019-12-30 23:45:00+00:00</th>\n",
       "      <td>1.120295</td>\n",
       "      <td>0.000076</td>\n",
       "      <td>0.000027</td>\n",
       "      <td>-0.000004</td>\n",
       "      <td>-0.000112</td>\n",
       "      <td>-0.000018</td>\n",
       "      <td>0.000022</td>\n",
       "    </tr>\n",
       "    <tr>\n",
       "      <th>2019-12-30 23:50:00+00:00</th>\n",
       "      <td>1.120275</td>\n",
       "      <td>-0.000018</td>\n",
       "      <td>0.000076</td>\n",
       "      <td>0.000027</td>\n",
       "      <td>-0.000004</td>\n",
       "      <td>-0.000112</td>\n",
       "      <td>-0.000018</td>\n",
       "    </tr>\n",
       "    <tr>\n",
       "      <th>2019-12-30 23:55:00+00:00</th>\n",
       "      <td>1.120130</td>\n",
       "      <td>-0.000129</td>\n",
       "      <td>-0.000018</td>\n",
       "      <td>0.000076</td>\n",
       "      <td>0.000027</td>\n",
       "      <td>-0.000004</td>\n",
       "      <td>-0.000112</td>\n",
       "    </tr>\n",
       "  </tbody>\n",
       "</table>\n",
       "<p>73704 rows × 7 columns</p>\n",
       "</div>"
      ],
      "text/plain": [
       "                              price   returns      lag1      lag2      lag3  \\\n",
       "time                                                                          \n",
       "2019-01-01 23:20:00+00:00  1.146695  0.000022  0.000065  0.000057 -0.000017   \n",
       "2019-01-01 23:25:00+00:00  1.146650 -0.000039  0.000022  0.000065  0.000057   \n",
       "2019-01-01 23:30:00+00:00  1.146555 -0.000083 -0.000039  0.000022  0.000065   \n",
       "2019-01-01 23:35:00+00:00  1.146630  0.000065 -0.000083 -0.000039  0.000022   \n",
       "2019-01-01 23:40:00+00:00  1.146500 -0.000113  0.000065 -0.000083 -0.000039   \n",
       "...                             ...       ...       ...       ...       ...   \n",
       "2019-12-30 23:35:00+00:00  1.120180 -0.000004 -0.000112 -0.000018  0.000022   \n",
       "2019-12-30 23:40:00+00:00  1.120210  0.000027 -0.000004 -0.000112 -0.000018   \n",
       "2019-12-30 23:45:00+00:00  1.120295  0.000076  0.000027 -0.000004 -0.000112   \n",
       "2019-12-30 23:50:00+00:00  1.120275 -0.000018  0.000076  0.000027 -0.000004   \n",
       "2019-12-30 23:55:00+00:00  1.120130 -0.000129 -0.000018  0.000076  0.000027   \n",
       "\n",
       "                               lag4      lag5  \n",
       "time                                           \n",
       "2019-01-01 23:20:00+00:00  0.000122 -0.000057  \n",
       "2019-01-01 23:25:00+00:00 -0.000017  0.000122  \n",
       "2019-01-01 23:30:00+00:00  0.000057 -0.000017  \n",
       "2019-01-01 23:35:00+00:00  0.000065  0.000057  \n",
       "2019-01-01 23:40:00+00:00  0.000022  0.000065  \n",
       "...                             ...       ...  \n",
       "2019-12-30 23:35:00+00:00 -0.000004  0.000089  \n",
       "2019-12-30 23:40:00+00:00  0.000022 -0.000004  \n",
       "2019-12-30 23:45:00+00:00 -0.000018  0.000022  \n",
       "2019-12-30 23:50:00+00:00 -0.000112 -0.000018  \n",
       "2019-12-30 23:55:00+00:00 -0.000004 -0.000112  \n",
       "\n",
       "[73704 rows x 7 columns]"
      ]
     },
     "execution_count": 91,
     "metadata": {},
     "output_type": "execute_result"
    }
   ],
   "source": [
    "cols = []\n",
    "for lag in range(1, lags + 1):\n",
    "    col = f\"lag{lag}\"\n",
    "    data[col] = data.returns.shift(lag)\n",
    "    cols.append(col)\n",
    "    data.dropna(inplace = True)\n",
    "data"
   ]
  },
  {
   "cell_type": "code",
   "execution_count": 92,
   "id": "3472fef5",
   "metadata": {},
   "outputs": [
    {
     "data": {
      "text/html": [
       "<div>\n",
       "<style scoped>\n",
       "    .dataframe tbody tr th:only-of-type {\n",
       "        vertical-align: middle;\n",
       "    }\n",
       "\n",
       "    .dataframe tbody tr th {\n",
       "        vertical-align: top;\n",
       "    }\n",
       "\n",
       "    .dataframe thead th {\n",
       "        text-align: right;\n",
       "    }\n",
       "</style>\n",
       "<table border=\"1\" class=\"dataframe\">\n",
       "  <thead>\n",
       "    <tr style=\"text-align: right;\">\n",
       "      <th></th>\n",
       "      <th>price</th>\n",
       "      <th>returns</th>\n",
       "      <th>lag1</th>\n",
       "      <th>lag2</th>\n",
       "      <th>lag3</th>\n",
       "      <th>lag4</th>\n",
       "      <th>lag5</th>\n",
       "      <th>pred</th>\n",
       "    </tr>\n",
       "    <tr>\n",
       "      <th>time</th>\n",
       "      <th></th>\n",
       "      <th></th>\n",
       "      <th></th>\n",
       "      <th></th>\n",
       "      <th></th>\n",
       "      <th></th>\n",
       "      <th></th>\n",
       "      <th></th>\n",
       "    </tr>\n",
       "  </thead>\n",
       "  <tbody>\n",
       "    <tr>\n",
       "      <th>2019-01-01 23:20:00+00:00</th>\n",
       "      <td>1.146695</td>\n",
       "      <td>0.000022</td>\n",
       "      <td>0.000065</td>\n",
       "      <td>0.000057</td>\n",
       "      <td>-0.000017</td>\n",
       "      <td>0.000122</td>\n",
       "      <td>-0.000057</td>\n",
       "      <td>-2.948619e-06</td>\n",
       "    </tr>\n",
       "    <tr>\n",
       "      <th>2019-01-01 23:25:00+00:00</th>\n",
       "      <td>1.146650</td>\n",
       "      <td>-0.000039</td>\n",
       "      <td>0.000022</td>\n",
       "      <td>0.000065</td>\n",
       "      <td>0.000057</td>\n",
       "      <td>-0.000017</td>\n",
       "      <td>0.000122</td>\n",
       "      <td>-1.363880e-06</td>\n",
       "    </tr>\n",
       "    <tr>\n",
       "      <th>2019-01-01 23:30:00+00:00</th>\n",
       "      <td>1.146555</td>\n",
       "      <td>-0.000083</td>\n",
       "      <td>-0.000039</td>\n",
       "      <td>0.000022</td>\n",
       "      <td>0.000065</td>\n",
       "      <td>0.000057</td>\n",
       "      <td>-0.000017</td>\n",
       "      <td>1.049221e-06</td>\n",
       "    </tr>\n",
       "    <tr>\n",
       "      <th>2019-01-01 23:35:00+00:00</th>\n",
       "      <td>1.146630</td>\n",
       "      <td>0.000065</td>\n",
       "      <td>-0.000083</td>\n",
       "      <td>-0.000039</td>\n",
       "      <td>0.000022</td>\n",
       "      <td>0.000065</td>\n",
       "      <td>0.000057</td>\n",
       "      <td>2.203724e-06</td>\n",
       "    </tr>\n",
       "    <tr>\n",
       "      <th>2019-01-01 23:40:00+00:00</th>\n",
       "      <td>1.146500</td>\n",
       "      <td>-0.000113</td>\n",
       "      <td>0.000065</td>\n",
       "      <td>-0.000083</td>\n",
       "      <td>-0.000039</td>\n",
       "      <td>0.000022</td>\n",
       "      <td>0.000065</td>\n",
       "      <td>-2.762942e-06</td>\n",
       "    </tr>\n",
       "    <tr>\n",
       "      <th>...</th>\n",
       "      <td>...</td>\n",
       "      <td>...</td>\n",
       "      <td>...</td>\n",
       "      <td>...</td>\n",
       "      <td>...</td>\n",
       "      <td>...</td>\n",
       "      <td>...</td>\n",
       "      <td>...</td>\n",
       "    </tr>\n",
       "    <tr>\n",
       "      <th>2019-12-30 23:35:00+00:00</th>\n",
       "      <td>1.120180</td>\n",
       "      <td>-0.000004</td>\n",
       "      <td>-0.000112</td>\n",
       "      <td>-0.000018</td>\n",
       "      <td>0.000022</td>\n",
       "      <td>-0.000004</td>\n",
       "      <td>0.000089</td>\n",
       "      <td>3.258451e-06</td>\n",
       "    </tr>\n",
       "    <tr>\n",
       "      <th>2019-12-30 23:40:00+00:00</th>\n",
       "      <td>1.120210</td>\n",
       "      <td>0.000027</td>\n",
       "      <td>-0.000004</td>\n",
       "      <td>-0.000112</td>\n",
       "      <td>-0.000018</td>\n",
       "      <td>0.000022</td>\n",
       "      <td>-0.000004</td>\n",
       "      <td>-2.237791e-08</td>\n",
       "    </tr>\n",
       "    <tr>\n",
       "      <th>2019-12-30 23:45:00+00:00</th>\n",
       "      <td>1.120295</td>\n",
       "      <td>0.000076</td>\n",
       "      <td>0.000027</td>\n",
       "      <td>-0.000004</td>\n",
       "      <td>-0.000112</td>\n",
       "      <td>-0.000018</td>\n",
       "      <td>0.000022</td>\n",
       "      <td>-1.617439e-06</td>\n",
       "    </tr>\n",
       "    <tr>\n",
       "      <th>2019-12-30 23:50:00+00:00</th>\n",
       "      <td>1.120275</td>\n",
       "      <td>-0.000018</td>\n",
       "      <td>0.000076</td>\n",
       "      <td>0.000027</td>\n",
       "      <td>-0.000004</td>\n",
       "      <td>-0.000112</td>\n",
       "      <td>-0.000018</td>\n",
       "      <td>-2.463579e-06</td>\n",
       "    </tr>\n",
       "    <tr>\n",
       "      <th>2019-12-30 23:55:00+00:00</th>\n",
       "      <td>1.120130</td>\n",
       "      <td>-0.000129</td>\n",
       "      <td>-0.000018</td>\n",
       "      <td>0.000076</td>\n",
       "      <td>0.000027</td>\n",
       "      <td>-0.000004</td>\n",
       "      <td>-0.000112</td>\n",
       "      <td>6.219014e-07</td>\n",
       "    </tr>\n",
       "  </tbody>\n",
       "</table>\n",
       "<p>73704 rows × 8 columns</p>\n",
       "</div>"
      ],
      "text/plain": [
       "                              price   returns      lag1      lag2      lag3  \\\n",
       "time                                                                          \n",
       "2019-01-01 23:20:00+00:00  1.146695  0.000022  0.000065  0.000057 -0.000017   \n",
       "2019-01-01 23:25:00+00:00  1.146650 -0.000039  0.000022  0.000065  0.000057   \n",
       "2019-01-01 23:30:00+00:00  1.146555 -0.000083 -0.000039  0.000022  0.000065   \n",
       "2019-01-01 23:35:00+00:00  1.146630  0.000065 -0.000083 -0.000039  0.000022   \n",
       "2019-01-01 23:40:00+00:00  1.146500 -0.000113  0.000065 -0.000083 -0.000039   \n",
       "...                             ...       ...       ...       ...       ...   \n",
       "2019-12-30 23:35:00+00:00  1.120180 -0.000004 -0.000112 -0.000018  0.000022   \n",
       "2019-12-30 23:40:00+00:00  1.120210  0.000027 -0.000004 -0.000112 -0.000018   \n",
       "2019-12-30 23:45:00+00:00  1.120295  0.000076  0.000027 -0.000004 -0.000112   \n",
       "2019-12-30 23:50:00+00:00  1.120275 -0.000018  0.000076  0.000027 -0.000004   \n",
       "2019-12-30 23:55:00+00:00  1.120130 -0.000129 -0.000018  0.000076  0.000027   \n",
       "\n",
       "                               lag4      lag5          pred  \n",
       "time                                                         \n",
       "2019-01-01 23:20:00+00:00  0.000122 -0.000057 -2.948619e-06  \n",
       "2019-01-01 23:25:00+00:00 -0.000017  0.000122 -1.363880e-06  \n",
       "2019-01-01 23:30:00+00:00  0.000057 -0.000017  1.049221e-06  \n",
       "2019-01-01 23:35:00+00:00  0.000065  0.000057  2.203724e-06  \n",
       "2019-01-01 23:40:00+00:00  0.000022  0.000065 -2.762942e-06  \n",
       "...                             ...       ...           ...  \n",
       "2019-12-30 23:35:00+00:00 -0.000004  0.000089  3.258451e-06  \n",
       "2019-12-30 23:40:00+00:00  0.000022 -0.000004 -2.237791e-08  \n",
       "2019-12-30 23:45:00+00:00 -0.000018  0.000022 -1.617439e-06  \n",
       "2019-12-30 23:50:00+00:00 -0.000112 -0.000018 -2.463579e-06  \n",
       "2019-12-30 23:55:00+00:00 -0.000004 -0.000112  6.219014e-07  \n",
       "\n",
       "[73704 rows x 8 columns]"
      ]
     },
     "execution_count": 92,
     "metadata": {},
     "output_type": "execute_result"
    }
   ],
   "source": [
    "data[\"pred\"] = lm.predict(data[cols].values)\n",
    "data"
   ]
  },
  {
   "cell_type": "code",
   "execution_count": 93,
   "id": "fc19b95c",
   "metadata": {},
   "outputs": [],
   "source": [
    "data.pred = np.sign(data.pred)"
   ]
  },
  {
   "cell_type": "code",
   "execution_count": 94,
   "id": "a1fbd799",
   "metadata": {},
   "outputs": [
    {
     "data": {
      "text/plain": [
       " 1.0    37489\n",
       "-1.0    34258\n",
       " 0.0     1957\n",
       "dtype: int64"
      ]
     },
     "execution_count": 94,
     "metadata": {},
     "output_type": "execute_result"
    }
   ],
   "source": [
    "hits = np.sign(data.returns * data.pred).value_counts()\n",
    "hits"
   ]
  },
  {
   "cell_type": "code",
   "execution_count": 95,
   "id": "ef98d1a1",
   "metadata": {},
   "outputs": [
    {
     "data": {
      "text/plain": [
       "0.5086426788234018"
      ]
     },
     "execution_count": 95,
     "metadata": {},
     "output_type": "execute_result"
    }
   ],
   "source": [
    "hit_ratio = hits[1.0] / sum(hits)\n",
    "hit_ratio"
   ]
  },
  {
   "cell_type": "code",
   "execution_count": 87,
   "id": "bab2368c",
   "metadata": {},
   "outputs": [],
   "source": [
    "data[\"strategy\"] = data.pred * data.returns\n",
    "data[\"creturns\"] = data[\"returns\"].cumsum().apply(np.exp)\n",
    "data[\"cstrategy\"] = data[\"strategy\"].cumsum().apply(np.exp)"
   ]
  },
  {
   "cell_type": "code",
   "execution_count": null,
   "id": "cbc7de79",
   "metadata": {},
   "outputs": [],
   "source": []
  }
 ],
 "metadata": {
  "kernelspec": {
   "display_name": "Python 3",
   "language": "python",
   "name": "python3"
  },
  "language_info": {
   "codemirror_mode": {
    "name": "ipython",
    "version": 3
   },
   "file_extension": ".py",
   "mimetype": "text/x-python",
   "name": "python",
   "nbconvert_exporter": "python",
   "pygments_lexer": "ipython3",
   "version": "3.8.8"
  }
 },
 "nbformat": 4,
 "nbformat_minor": 5
}
