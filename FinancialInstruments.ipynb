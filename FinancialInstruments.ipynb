{
 "cells": [
  {
   "cell_type": "markdown",
   "id": "065c599d",
   "metadata": {},
   "source": [
    "# Analyzing financial instruments"
   ]
  },
  {
   "cell_type": "code",
   "execution_count": 156,
   "id": "40496886",
   "metadata": {},
   "outputs": [],
   "source": [
    "import pandas as pd\n",
    "import numpy as np\n",
    "import matplotlib.pyplot as plt\n",
    "import yfinance as yf\n",
    "plt.style.use('seaborn')"
   ]
  },
  {
   "cell_type": "code",
   "execution_count": 265,
   "id": "f32b7599",
   "metadata": {},
   "outputs": [],
   "source": [
    "class FinancialInstrument():\n",
    "    ''' Class to analyze any kind of financial instruments\n",
    "    '''\n",
    "    def __init__(self, ticker, start, end):\n",
    "        self._ticker = ticker # _ticker => protected attribute though we can call it with _ticker instead of ticker\n",
    "        self.start = start\n",
    "        self.end = end\n",
    "        self.get_data()\n",
    "        self.log_returns()\n",
    "    \n",
    "    def set_ticker(self, ticker = None):\n",
    "        if ticker is not None:\n",
    "            self._ticker = ticker\n",
    "            self.get_data()\n",
    "            self.log_returns()\n",
    "        \n",
    "    def __repr__(self):\n",
    "        return 'FinancialInstrument(ticker = {}, start = {}, end = {})'.format(self._ticker, self.start, self.end)\n",
    "        \n",
    "    def get_data(self):\n",
    "        ''' Retrieves and prepares data from Yahoo Finance\n",
    "        '''\n",
    "        raw_data = yf.download(self._ticker, self.start, self.end).Close.to_frame()\n",
    "        raw_data.rename(columns = {'Close': 'Price'}, inplace = True)\n",
    "        # Make it an attriute\n",
    "        self.data = raw_data\n",
    "        \n",
    "    def log_returns(self):\n",
    "        ''' Computes logarithmic returns\n",
    "        '''\n",
    "        self.data['Log_returns'] = np.log(self.data.Price / self.data.Price.shift(1)) # or use pct_change\n",
    "        \n",
    "    def plot_prices(self): \n",
    "        ''' Creates a price chart\n",
    "        '''\n",
    "        self.data.plot(figsize = (12, 8))\n",
    "        plt.title('Price chart: {}'.format(self._ticker), fontsize = 15)\n",
    "        \n",
    "    def plot_returns(self, kind = 'ts'): # Either you plot the time series or the histogram\n",
    "        ''' Schemes logarithmic returns either as time series (\"ts\") or histograms (\"hist\")\n",
    "        '''\n",
    "        if kind == 'ts':\n",
    "            self.data.Log_returns.plot(figsize = (12, 8))\n",
    "            plt.title('Returns: {}'.format(self._ticker), fontsize = 15)\n",
    "        elif kind == 'hist':\n",
    "            self.data.Log_returns.hist(figsize = (12, 8), bins = int(np.sqrt(len(self.data))))\n",
    "            plt.title('Frequency of returns: {}'.format(self._ticker), fontsize = 15)\n",
    "            "
   ]
  },
  {
   "cell_type": "code",
   "execution_count": 264,
   "id": "591f1030",
   "metadata": {},
   "outputs": [],
   "source": [
    "class RiskReturn(FinancialInstrument):\n",
    "    \n",
    "    def __init__(self, ticker, start, end, freq = None):\n",
    "        super().__init__(ticker, start, end)\n",
    "        self.freq = freq\n",
    "    \n",
    "    def __repr__(self):\n",
    "        return 'RiskReturn(ticker = {}, start = {}, end = {})'.format(self._ticker, self.start, self.end)\n",
    "    \n",
    "    def mean_return(self): \n",
    "        ''' Computes the mean of returns on a given frequency (\"freq\")\n",
    "        '''\n",
    "        if self.freq is None:\n",
    "            return self.data.Log_returns.mean()\n",
    "        else:\n",
    "            resampled_price = self.data.Price.resample(self.freq).last() # Resample the prices according to the frequence\n",
    "            resampled_returns = np.log(resampled_price / resampled_price.shift(1)) # Resample/Re-compute returns with the resampled prices\n",
    "            return resampled_returns.mean()\n",
    "        \n",
    "    def std_return(self): \n",
    "        ''' Computes the standard deviation of returns according to a given frequency (\"freq\")\n",
    "        '''\n",
    "        if self.freq is None:\n",
    "            return self.data.Log_returns.std()\n",
    "        else:\n",
    "            resampled_price = self.data.Price.resample(self.freq).last() # Resample the prices according to the frequence\n",
    "            resampled_returns = np.log(resampled_price / resampled_price.shift(1)) # Resample/Re-compute returns with the resampled prices\n",
    "            return resampled_returns.std()\n",
    "    \n",
    "    def annualized_perf(self):\n",
    "        ''' Computes the annualized return and risk\n",
    "        '''\n",
    "        mean_return = round(self.data.Log_returns.mean() * 252, 3)\n",
    "        risk = round(self.data.Log_returns.std() * np.sqrt(252), 3)\n",
    "        print('Return: {} | Risk: {}'.format(mean_return, risk))"
   ]
  }
 ],
 "metadata": {
  "kernelspec": {
   "display_name": "Python 3 (ipykernel)",
   "language": "python",
   "name": "python3"
  },
  "language_info": {
   "codemirror_mode": {
    "name": "ipython",
    "version": 3
   },
   "file_extension": ".py",
   "mimetype": "text/x-python",
   "name": "python",
   "nbconvert_exporter": "python",
   "pygments_lexer": "ipython3",
   "version": "3.9.6"
  }
 },
 "nbformat": 4,
 "nbformat_minor": 5
}
